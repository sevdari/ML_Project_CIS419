{
 "cells": [
  {
   "cell_type": "code",
   "execution_count": 1,
   "metadata": {},
   "outputs": [],
   "source": [
    "import numpy as np\n",
    "import pandas as pd\n",
    "import matplotlib.pyplot as plt\n",
    "import torch\n"
   ]
  },
  {
   "cell_type": "code",
   "execution_count": 2,
   "metadata": {},
   "outputs": [
    {
     "data": {
      "text/plain": [
       "(568454, 10)"
      ]
     },
     "execution_count": 2,
     "metadata": {},
     "output_type": "execute_result"
    }
   ],
   "source": [
    "data = pd.read_csv('Reviews.csv')\n",
    "data.shape"
   ]
  },
  {
   "attachments": {},
   "cell_type": "markdown",
   "metadata": {},
   "source": [
    "# Basic Data Filtering"
   ]
  },
  {
   "cell_type": "code",
   "execution_count": 3,
   "metadata": {},
   "outputs": [
    {
     "data": {
      "text/plain": [
       "(568411, 10)"
      ]
     },
     "execution_count": 3,
     "metadata": {},
     "output_type": "execute_result"
    }
   ],
   "source": [
    "data = data.dropna()\n",
    "data.shape"
   ]
  },
  {
   "cell_type": "code",
   "execution_count": 4,
   "metadata": {},
   "outputs": [],
   "source": [
    "import warnings\n",
    "warnings.filterwarnings(\"ignore\")                     #Ignoring unnecessory warnings\n",
    "\n",
    "import numpy as np                                  #for large and multi-dimensional arrays\n",
    "import pandas as pd\n",
    "\n",
    "import nltk                                         #Natural language processing tool-kit\n",
    "\n",
    "from nltk.corpus import stopwords                   #Stopwords corpus\n",
    "from nltk.stem import PorterStemmer                 # Stemmer"
   ]
  },
  {
   "cell_type": "code",
   "execution_count": 74,
   "metadata": {},
   "outputs": [
    {
     "name": "stderr",
     "output_type": "stream",
     "text": [
      "[nltk_data] Downloading package stopwords to\n",
      "[nltk_data]     /Users/klejdisevdari/nltk_data...\n",
      "[nltk_data]   Package stopwords is already up-to-date!\n"
     ]
    }
   ],
   "source": [
    "#basic cleaning\n",
    "import time\n",
    "\n",
    "data = data.drop_duplicates(subset = {\"UserId\",\"ProfileName\",\"Time\",\"Text\"})\n",
    "data = data[data['HelpfulnessNumerator'] <= data['HelpfulnessDenominator']]\n",
    "\n",
    "nltk.download('stopwords')\n",
    "\n",
    "stop = set(stopwords.words('english'))\n",
    "\n",
    "#removing spaces and stopwords\n",
    "import re\n",
    "# function to clean data\n",
    "def clean_data(X):\n",
    "    temp =[]\n",
    "    snow = nltk.stem.SnowballStemmer('english')\n",
    "    start = time.time()\n",
    "    for i, sentence in enumerate(X):\n",
    "        if i%10000 == 0:\n",
    "            # print(i, 'Time taken:', time.time()-start)\n",
    "            start = time.time()\n",
    "        sentence = sentence.lower()                 # Converting to lowercase\n",
    "        cleanr = re.compile('<.*?>')\n",
    "        sentence = re.sub(cleanr, ' ', sentence)        #Removing HTML tags\n",
    "        sentence = re.sub(r'[?|!|\\'|\"|#]',r'',sentence)\n",
    "        sentence = re.sub(r'[.|,|)|(|\\|/]',r' ',sentence)        #Removing Punctuations\n",
    "\n",
    "        words = [snow.stem(word) for word in sentence.split()]   # Stemming\n",
    "        temp.append(words)\n",
    "\n",
    "    X = temp    \n",
    "\n",
    "    sent = []\n",
    "    for row in X:\n",
    "        sequ = ''\n",
    "        for word in row:\n",
    "            sequ = sequ + ' ' + word\n",
    "        sent.append(sequ)\n",
    "\n",
    "    return sent"
   ]
  },
  {
   "cell_type": "code",
   "execution_count": 6,
   "metadata": {},
   "outputs": [],
   "source": [
    "X, y = data['Text'], data['Score'] # extract features"
   ]
  },
  {
   "cell_type": "code",
   "execution_count": 7,
   "metadata": {},
   "outputs": [
    {
     "data": {
      "text/plain": [
       "<AxesSubplot:>"
      ]
     },
     "execution_count": 7,
     "metadata": {},
     "output_type": "execute_result"
    },
    {
     "data": {
      "image/png": "[encoded data removed]",
      "text/plain": [
       "<Figure size 432x288 with 1 Axes>"
      ]
     },
     "metadata": {
      "needs_background": "light"
     },
     "output_type": "display_data"
    }
   ],
   "source": [
    "y.value_counts().plot(kind='bar') # check unbalanced data"
   ]
  },
  {
   "cell_type": "code",
   "execution_count": 8,
   "metadata": {},
   "outputs": [
    {
     "data": {
      "text/plain": [
       "<AxesSubplot:>"
      ]
     },
     "execution_count": 8,
     "metadata": {},
     "output_type": "execute_result"
    },
    {
     "data": {
      "image/png": "[encoded data removed]",
      "text/plain": [
       "<Figure size 432x288 with 1 Axes>"
      ]
     },
     "metadata": {
      "needs_background": "light"
     },
     "output_type": "display_data"
    }
   ],
   "source": [
    "y[y<4] = 0 # negative class\n",
    "y[y>=4] = 1 # positive class\n",
    "y.value_counts().plot(kind='bar')"
   ]
  },
  {
   "cell_type": "code",
   "execution_count": 9,
   "metadata": {},
   "outputs": [],
   "source": [
    "y = np.array(y) # to convert to numpy array"
   ]
  },
  {
   "cell_type": "code",
   "execution_count": 10,
   "metadata": {},
   "outputs": [
    {
     "name": "stdout",
     "output_type": "stream",
     "text": [
      "0 Time taken: 1.5020370483398438e-05\n",
      "10000 Time taken: 4.28208589553833\n",
      "20000 Time taken: 4.668278932571411\n",
      "30000 Time taken: 4.387677907943726\n",
      "40000 Time taken: 4.543781042098999\n",
      "50000 Time taken: 4.4371418952941895\n",
      "60000 Time taken: 4.673625946044922\n",
      "70000 Time taken: 4.925822973251343\n",
      "80000 Time taken: 4.594944953918457\n",
      "90000 Time taken: 4.531094074249268\n",
      "100000 Time taken: 4.215704917907715\n",
      "110000 Time taken: 4.376190900802612\n",
      "120000 Time taken: 4.788803815841675\n",
      "130000 Time taken: 4.298745155334473\n",
      "140000 Time taken: 4.378087997436523\n",
      "150000 Time taken: 4.532815217971802\n",
      "160000 Time taken: 4.552306890487671\n",
      "170000 Time taken: 4.392742156982422\n",
      "180000 Time taken: 4.354651212692261\n",
      "190000 Time taken: 4.448018789291382\n",
      "200000 Time taken: 4.902785062789917\n",
      "210000 Time taken: 4.437324047088623\n",
      "220000 Time taken: 4.406347990036011\n",
      "230000 Time taken: 4.66995906829834\n",
      "240000 Time taken: 4.16654896736145\n",
      "250000 Time taken: 4.375397205352783\n",
      "260000 Time taken: 4.439316034317017\n",
      "270000 Time taken: 4.595893144607544\n",
      "280000 Time taken: 4.384436845779419\n",
      "290000 Time taken: 4.266684293746948\n",
      "300000 Time taken: 4.5844879150390625\n",
      "310000 Time taken: 4.422237873077393\n",
      "320000 Time taken: 4.388545036315918\n",
      "330000 Time taken: 4.302052974700928\n",
      "340000 Time taken: 4.206309080123901\n",
      "350000 Time taken: 4.306813955307007\n",
      "360000 Time taken: 4.383313179016113\n",
      "370000 Time taken: 4.4634130001068115\n",
      "380000 Time taken: 4.556349992752075\n",
      "390000 Time taken: 4.483492136001587\n"
     ]
    }
   ],
   "source": [
    "cleaned_data = clean_data(X)"
   ]
  },
  {
   "cell_type": "code",
   "execution_count": 11,
   "metadata": {},
   "outputs": [
    {
     "data": {
      "text/plain": [
       "(393917, 393917)"
      ]
     },
     "execution_count": 11,
     "metadata": {},
     "output_type": "execute_result"
    }
   ],
   "source": [
    "len(cleaned_data), len(y) # checking if the length of cleaned data and y is same# Glove"
   ]
  },
  {
   "cell_type": "code",
   "execution_count": 39,
   "metadata": {},
   "outputs": [
    {
     "name": "stdout",
     "output_type": "stream",
     "text": [
      "Length of validation set 1000 1000\n",
      "Length of validation set 391698 391698\n",
      "\n",
      " Example of bad Review: \n",
      "\n",
      " product arriv label as jumbo salt peanut the peanut were actual small size unsalt not sure if this was an error or if the vendor intend to repres the product as jumbo\n",
      "\n",
      " Example of Good Review: \n",
      "\n",
      " the tea tin is guard the aroma veri well the tast is beautiful: the malva flower do soften the tast and the amount of bergamot is just right the first time i use too much tea and soak it for too long i use as refer darjeel ftgfop first flush sinc then i save on the quantiti of tea leav and soak the tea for onli two minut a delight: the best earl grey i ever had the price is veri competit\n"
     ]
    }
   ],
   "source": [
    "# creating train and validation\n",
    "\n",
    "# get the indicies of the positive and negative classes\n",
    "zero_indicies = np.where(y==0)[0]\n",
    "one_indicies = np.where(y==1)[0]\n",
    "\n",
    "# create validation indicies\n",
    "val_indicies = np.concatenate([zero_indicies[:500], one_indicies[:500]])\n",
    "max_val = np.max(val_indicies)\n",
    "\n",
    "# create the validation data\n",
    "y_val = y[val_indicies]\n",
    "val_data = []\n",
    "for i in val_indicies:\n",
    "    val_data.append(cleaned_data[i])\n",
    "\n",
    "# create train data\n",
    "train_data = cleaned_data[max_val+1:]\n",
    "y_train = y[max_val+1:]\n",
    "\n",
    "print('Length of validation set', len(val_data), len(y_val))\n",
    "print('Length of validation set', len(train_data), len(y_train))\n",
    "\n",
    "# Santiy check\n",
    "print('\\n Example of bad Review: \\n')\n",
    "print(val_data[0])\n",
    "\n",
    "print('\\n Example of Good Review: \\n')\n",
    "print(val_data[-1])\n",
    "\n",
    "# Note that the words are stemmed"
   ]
  },
  {
   "attachments": {},
   "cell_type": "markdown",
   "metadata": {},
   "source": [
    "# Data Exploration"
   ]
  },
  {
   "cell_type": "code",
   "execution_count": 96,
   "metadata": {},
   "outputs": [],
   "source": [
    "# get sentence lengths\n",
    "from torchtext.data.utils import get_tokenizer\n",
    "tokenizer = get_tokenizer('basic_english')\n",
    "sentence_lengths = []\n",
    "for sentence in cleaned_data:\n",
    "    sentence_lengths.append(len(tokenizer(sentence)))"
   ]
  },
  {
   "cell_type": "code",
   "execution_count": 97,
   "metadata": {},
   "outputs": [],
   "source": [
    "sentence_lengths = np.array(sentence_lengths)\n",
    "sentence_less_500 = sentence_lengths[sentence_lengths<=500]"
   ]
  },
  {
   "cell_type": "code",
   "execution_count": 103,
   "metadata": {},
   "outputs": [
    {
     "name": "stdout",
     "output_type": "stream",
     "text": [
      "The median sentence length is: 57.0\n",
      "The standard deviation of sentence lengths is: 76.66885920580773\n"
     ]
    }
   ],
   "source": [
    "print('The median sentence length is:', np.median(sentence_lengths))\n",
    "print('The standard deviation of sentence lengths is:', np.std(sentence_lengths))"
   ]
  },
  {
   "cell_type": "code",
   "execution_count": 104,
   "metadata": {},
   "outputs": [
    {
     "data": {
      "image/png": "[encoded data removed]",
      "text/plain": [
       "<Figure size 432x288 with 1 Axes>"
      ]
     },
     "metadata": {
      "needs_background": "light"
     },
     "output_type": "display_data"
    }
   ],
   "source": [
    "plt.boxplot(sentence_lengths)\n",
    "plt.show()"
   ]
  },
  {
   "cell_type": "code",
   "execution_count": 105,
   "metadata": {},
   "outputs": [
    {
     "data": {
      "image/png": "[encoded data removed]",
      "text/plain": [
       "<Figure size 648x504 with 1 Axes>"
      ]
     },
     "metadata": {
      "needs_background": "light"
     },
     "output_type": "display_data"
    }
   ],
   "source": [
    "fig = plt.figure(figsize=(9, 7))\n",
    "plt.xlabel('Sentence Length')\n",
    "plt.ylabel('Frequency')\n",
    "plt.title('Histogram of the length of sentences')\n",
    "plt.hist(sentence_less_500)\n",
    "plt.show()"
   ]
  },
  {
   "attachments": {},
   "cell_type": "markdown",
   "metadata": {},
   "source": [
    "# Glove"
   ]
  },
  {
   "cell_type": "code",
   "execution_count": 40,
   "metadata": {},
   "outputs": [],
   "source": [
    "# build a vocabulary\n",
    "from torchtext.vocab import build_vocab_from_iterator\n",
    "from torchtext.data.utils import get_tokenizer\n",
    "tokenizer = get_tokenizer('basic_english')\n",
    "def yield_tokens(data_iter):\n",
    "    for text in data_iter:\n",
    "        yield tokenizer(text)\n",
    "vocab = build_vocab_from_iterator(yield_tokens(cleaned_data), specials=[\"<unk>\"])"
   ]
  },
  {
   "cell_type": "code",
   "execution_count": 138,
   "metadata": {},
   "outputs": [],
   "source": [
    "vocab.set_default_index(vocab['<unk>'])"
   ]
  },
  {
   "cell_type": "code",
   "execution_count": 41,
   "metadata": {},
   "outputs": [
    {
     "data": {
      "text/plain": [
       "[3953, 173]"
      ]
     },
     "execution_count": 41,
     "metadata": {},
     "output_type": "execute_result"
    }
   ],
   "source": [
    "vocab(['hello', 'how']) # sanity check"
   ]
  },
  {
   "cell_type": "code",
   "execution_count": 42,
   "metadata": {},
   "outputs": [],
   "source": [
    "text_pipeline = lambda x: vocab(tokenizer(x))\n",
    "label_pipeline = lambda x: int(x) - 1"
   ]
  },
  {
   "cell_type": "code",
   "execution_count": 43,
   "metadata": {},
   "outputs": [],
   "source": [
    "glove_file = \"glove.840B.300d.txt\""
   ]
  },
  {
   "cell_type": "code",
   "execution_count": 44,
   "metadata": {},
   "outputs": [],
   "source": [
    "#takes about 1 minute to read through the whole file and find the words we need. \n",
    "def get_glove_mapping(vocab, file):\n",
    "    \n",
    "    # Gets the mapping of words from the vocabulary to pretrained embeddings\n",
    "    \n",
    "    glove_map = {}\n",
    "    with open(file,'rb') as fi:\n",
    "        for i, l in enumerate(fi):\n",
    "            try:\n",
    "                line = l.decode('utf-8')\n",
    "                line = line.split(' ')\n",
    "                word = line[0]\n",
    "                if word in vocab:\n",
    "                    array = np.array(line[1:], dtype=np.float)\n",
    "                    glove_map[word] = array\n",
    "            except:\n",
    "                # print('some sort of error')\n",
    "                #some lines have urls, we don't need them.\n",
    "                pass\n",
    "    return glove_map"
   ]
  },
  {
   "cell_type": "code",
   "execution_count": 45,
   "metadata": {},
   "outputs": [],
   "source": [
    "glove_map = get_glove_mapping(vocab,glove_file)"
   ]
  },
  {
   "cell_type": "code",
   "execution_count": 47,
   "metadata": {},
   "outputs": [],
   "source": [
    "def get_weight_matrix(n_embed, d_embed, glove_map):\n",
    "    \n",
    "    # Initialize the weight matrix\n",
    "    weights_matrix = np.random.normal(size=(n_embed, d_embed))\n",
    "\n",
    "    for i, word in enumerate(vocab.get_itos()):\n",
    "      if word in glove_map:\n",
    "        weights_matrix[i] = glove_map[word]\n",
    "    \n",
    "    return weights_matrix"
   ]
  },
  {
   "cell_type": "code",
   "execution_count": 48,
   "metadata": {},
   "outputs": [],
   "source": [
    "weights_matrix = get_weight_matrix(len(vocab), 300, glove_map).astype('float32')"
   ]
  },
  {
   "cell_type": "code",
   "execution_count": 49,
   "metadata": {},
   "outputs": [
    {
     "data": {
      "text/plain": [
       "(2, 300)"
      ]
     },
     "execution_count": 49,
     "metadata": {},
     "output_type": "execute_result"
    }
   ],
   "source": [
    "weights_matrix[vocab(['hello', 'how'])].shape # sanity check"
   ]
  },
  {
   "attachments": {},
   "cell_type": "markdown",
   "metadata": {},
   "source": [
    "# Data Processing and Helper Functions"
   ]
  },
  {
   "cell_type": "code",
   "execution_count": 51,
   "metadata": {},
   "outputs": [],
   "source": [
    "# Helper functions that convert sentences into Pytorch tensors\n",
    "def sentenceToTensor(line, batch=True):\n",
    "    entries = text_pipeline(line)\n",
    "    tensor = torch.from_numpy(weights_matrix[entries])\n",
    "    if batch:\n",
    "        return tensor.unsqueeze(1)\n",
    "    return tensor\n",
    "\n",
    "def wordToTensor(word):\n",
    "    entries = text_pipeline(word)\n",
    "    return torch.from_numpy(weights_matrix[entries])"
   ]
  },
  {
   "attachments": {},
   "cell_type": "markdown",
   "metadata": {},
   "source": [
    "## Resolving the unbalanced data issue\n",
    "The function below is used in the training loop and it generates senteces of each sentiment with equal probability. This is in an attempt to resolve the unbalanced data issue. Otherwise, the classifer might see a majority of positive sentiment sentences and have a bias towards classifying most sentences as positive."
   ]
  },
  {
   "cell_type": "code",
   "execution_count": 54,
   "metadata": {},
   "outputs": [
    {
     "name": "stdout",
     "output_type": "stream",
     "text": [
      "torch.Size([1, 1]) torch.Size([31, 1, 300])\n"
     ]
    }
   ],
   "source": [
    "# Get the indicies of the training set\n",
    "zero_indicies = np.where(y_train==0)[0]\n",
    "one_indicies = np.where(y_train==1)[0]\n",
    "\n",
    "def randomTrainingExample(data, batch=True):\n",
    "    # Flip a coin\n",
    "    coin = np.random.uniform()\n",
    "\n",
    "    random = None\n",
    "    if coin > 0.5:\n",
    "        random = np.random.randint(0, len(zero_indicies))\n",
    "        random = zero_indicies[random]\n",
    "    else:\n",
    "         random = np.random.randint(0, len(one_indicies))\n",
    "         random = one_indicies[random]\n",
    "    \n",
    "    # get the training examples\n",
    "    tensor = sentenceToTensor(data[random], batch=batch)\n",
    "    category = torch.tensor([[y_train[random]]], dtype=torch.float)\n",
    "    return category, tensor\n",
    "\n",
    "cat, input = randomTrainingExample(train_data)\n",
    "print(cat.shape, input.shape) # sanity check\n",
    "# input shape should be [no_words, batch, embedding_dim] if batch=True"
   ]
  },
  {
   "attachments": {},
   "cell_type": "markdown",
   "metadata": {},
   "source": [
    "## Getting the accuracies of the validation set"
   ]
  },
  {
   "cell_type": "code",
   "execution_count": 61,
   "metadata": {},
   "outputs": [],
   "source": [
    "def get_accuracyLTSM(model):\n",
    "  with torch.no_grad():\n",
    "    count = 0 # count the correct instances\n",
    "\n",
    "    for i in range(len(val_data)):\n",
    "      # get sentence and convert to tensor\n",
    "      sentence = val_data[i]\n",
    "      sentence = sentenceToTensor(sentence)\n",
    "      category = torch.tensor([[y_val[i]]], dtype=torch.float)\n",
    "\n",
    "      # get prediction\n",
    "      pred = model(sentence)\n",
    "      # print(category.item(), pred.item())\n",
    "\n",
    "      # check accuracy\n",
    "      classification = 1 if pred.item() > 0.5 else 0\n",
    "      if classification == category.item():\n",
    "          count+= 1\n",
    "    \n",
    "    # return the accuracy\n",
    "    return count/len(val_data)\n",
    "# get_accuracyLTSM(model)"
   ]
  },
  {
   "attachments": {},
   "cell_type": "markdown",
   "metadata": {},
   "source": [
    "# LSTM"
   ]
  },
  {
   "attachments": {},
   "cell_type": "markdown",
   "metadata": {},
   "source": [
    "## Define the Model"
   ]
  },
  {
   "cell_type": "code",
   "execution_count": 62,
   "metadata": {},
   "outputs": [],
   "source": [
    "# define the LSTM model\n",
    "import torch.nn as nn\n",
    "\n",
    "class LSTM(nn.Module):\n",
    "\n",
    "    def __init__(self, embedding_dim):\n",
    "        super(LSTM, self).__init__()\n",
    "\n",
    "        # The LSTM takes word embeddings as inputs, and outputs hidden states\n",
    "        # with dimensionality hidden_dim.\n",
    "        self.lstm = nn.LSTM(embedding_dim, embedding_dim)\n",
    "\n",
    "        # The linear layer that maps from hidden state space to tag space\n",
    "        self.hidden2tag = nn.Linear(embedding_dim, 1)\n",
    "\n",
    "    def forward(self, sentence):\n",
    "        \n",
    "        lstm_out, _ = self.lstm(sentence)\n",
    "        logit = self.hidden2tag(lstm_out[-1])\n",
    "        prob = nn.functional.sigmoid(logit)\n",
    "        return prob\n",
    "\n",
    "model = LSTM(300)"
   ]
  },
  {
   "attachments": {},
   "cell_type": "markdown",
   "metadata": {},
   "source": [
    "## Train the model"
   ]
  },
  {
   "cell_type": "code",
   "execution_count": 64,
   "metadata": {},
   "outputs": [
    {
     "name": "stdout",
     "output_type": "stream",
     "text": [
      "5000 5% (2m 18s) 0.6128\n",
      "Accuracy: 0.732\n",
      "10000 10% (4m 31s) 0.5255\n",
      "Accuracy: 0.798\n",
      "15000 15% (6m 46s) 0.5126\n",
      "Accuracy: 0.727\n",
      "20000 20% (9m 0s) 0.4718\n",
      "Accuracy: 0.771\n",
      "25000 25% (11m 14s) 0.4483\n",
      "Accuracy: 0.792\n",
      "30000 30% (13m 30s) 0.4342\n",
      "Accuracy: 0.789\n",
      "35000 35% (15m 42s) 0.4425\n",
      "Accuracy: 0.781\n",
      "40000 40% (17m 56s) 0.4351\n",
      "Accuracy: 0.758\n",
      "45000 45% (20m 10s) 0.4263\n",
      "Accuracy: 0.758\n",
      "50000 50% (22m 25s) 0.4285\n",
      "Accuracy: 0.75\n",
      "55000 55% (24m 39s) 0.4170\n",
      "Accuracy: 0.778\n",
      "60000 60% (26m 56s) 0.3999\n",
      "Accuracy: 0.811\n",
      "65000 65% (29m 11s) 0.4092\n",
      "Accuracy: 0.799\n",
      "70000 70% (31m 24s) 0.3888\n",
      "Accuracy: 0.799\n",
      "75000 75% (33m 41s) 0.3927\n",
      "Accuracy: 0.813\n",
      "80000 80% (35m 55s) 0.3916\n",
      "Accuracy: 0.816\n",
      "85000 85% (38m 10s) 0.4006\n",
      "Accuracy: 0.806\n",
      "90000 90% (40m 26s) 0.3963\n",
      "Accuracy: 0.809\n",
      "95000 95% (42m 37s) 0.3908\n",
      "Accuracy: 0.817\n",
      "100000 100% (44m 53s) 0.3594\n",
      "Accuracy: 0.828\n"
     ]
    }
   ],
   "source": [
    "import torch.optim as optim\n",
    "import time\n",
    "import math\n",
    "\n",
    "def timeSince(since):\n",
    "    now = time.time()\n",
    "    s = now - since\n",
    "    m = math.floor(s / 60)\n",
    "    s -= m * 60\n",
    "    return '%dm %ds' % (m, s)\n",
    "\n",
    "loss_function = nn.BCELoss()\n",
    "optimizer = optim.SGD(model.parameters(), lr=0.1)\n",
    "current_loss = 0\n",
    "start = time.time()\n",
    "\n",
    "n_iters = 100000\n",
    "print_every = 5000\n",
    "\n",
    "\n",
    "start = time.time()\n",
    "\n",
    "for iter in range(1, n_iters+1): \n",
    "    # Step 1. Remember that Pytorch accumulates gradients.\n",
    "    # We need to clear them out before each instance\n",
    "    model.zero_grad()\n",
    "\n",
    "    # Step 2. Get our inputs ready for the network, that is, turn them into\n",
    "    # Tensors of word indices.\n",
    "    category, sentence = randomTrainingExample(train_data, batch=False)\n",
    "    category = category[0]\n",
    "    # Step 3. Run our forward pass.\n",
    "    output = model(sentence)\n",
    "\n",
    "    # Step 4. Compute the loss, gradients, and update the parameters by\n",
    "    #  calling optimizer.step()\n",
    "    loss = loss_function(output, category)\n",
    "    current_loss += loss.item()\n",
    "    loss.backward()\n",
    "    optimizer.step()\n",
    "    # Print ``iter`` number, loss, name and guess\n",
    "    if iter % print_every == 0:\n",
    "        acc = get_accuracyLTSM(model)\n",
    "        print('%d %d%% (%s) %.4f' % (iter, iter / n_iters * 100, timeSince(start), current_loss/print_every))\n",
    "        print('Accuracy:', acc)\n",
    "        current_loss = 0\n"
   ]
  },
  {
   "attachments": {},
   "cell_type": "markdown",
   "metadata": {},
   "source": [
    "## Testing out different sentences"
   ]
  },
  {
   "cell_type": "code",
   "execution_count": 76,
   "metadata": {},
   "outputs": [],
   "source": [
    "def classify_sentence(sentence):\n",
    "  tensor = sentenceToTensor(clean_data([\n",
    "    sentence\n",
    "    ])[0], batch=False)\n",
    "  pred = model(tensor)\n",
    "  print('The probability that this review is positive is: %.2f %%' % (pred.item()*100))"
   ]
  },
  {
   "cell_type": "code",
   "execution_count": 77,
   "metadata": {},
   "outputs": [
    {
     "name": "stdout",
     "output_type": "stream",
     "text": [
      "The probability that this review is positive is: 97.69 %\n"
     ]
    }
   ],
   "source": [
    "classify_sentence('This product is great')"
   ]
  },
  {
   "cell_type": "code",
   "execution_count": 79,
   "metadata": {},
   "outputs": [
    {
     "name": "stdout",
     "output_type": "stream",
     "text": [
      "The probability that this review is positive is: 14.23 %\n"
     ]
    }
   ],
   "source": [
    "classify_sentence('This seller is a fraud and no one should buy from him')"
   ]
  },
  {
   "attachments": {},
   "cell_type": "markdown",
   "metadata": {},
   "source": [
    "# Dataset Shift"
   ]
  },
  {
   "cell_type": "code",
   "execution_count": 106,
   "metadata": {},
   "outputs": [],
   "source": [
    "movie_reviews = pd.read_csv('movie_train.tsv', sep='\\t');\n",
    "movie_reviews = movie_reviews.drop_duplicates(subset=['SentenceId'], keep='first')"
   ]
  },
  {
   "cell_type": "code",
   "execution_count": 107,
   "metadata": {},
   "outputs": [
    {
     "data": {
      "text/plain": [
       "((8529,), (8529,))"
      ]
     },
     "execution_count": 107,
     "metadata": {},
     "output_type": "execute_result"
    }
   ],
   "source": [
    "X_movie = movie_reviews['Phrase']\n",
    "y_movie = movie_reviews['Sentiment'] + 1\n",
    "X_movie.shape, y_movie.shape"
   ]
  },
  {
   "cell_type": "code",
   "execution_count": 108,
   "metadata": {},
   "outputs": [],
   "source": [
    "X_movie = clean_data(X_movie)"
   ]
  },
  {
   "cell_type": "code",
   "execution_count": 111,
   "metadata": {},
   "outputs": [],
   "source": [
    "y_movie[y_movie<4] = 0 # negative class\n",
    "y_movie[y_movie>=4] = 1 # positive class"
   ]
  },
  {
   "cell_type": "code",
   "execution_count": 126,
   "metadata": {},
   "outputs": [
    {
     "data": {
      "text/plain": [
       "0         0\n",
       "63        1\n",
       "81        0\n",
       "116       1\n",
       "156       0\n",
       "         ..\n",
       "155984    0\n",
       "155997    0\n",
       "156021    0\n",
       "156031    0\n",
       "156039    0\n",
       "Name: Sentiment, Length: 8529, dtype: int64"
      ]
     },
     "execution_count": 126,
     "metadata": {},
     "output_type": "execute_result"
    }
   ],
   "source": [
    "y_movie"
   ]
  },
  {
   "cell_type": "code",
   "execution_count": 127,
   "metadata": {},
   "outputs": [
    {
     "data": {
      "text/plain": [
       "array([   0,    2,    4, ..., 8526, 8527, 8528])"
      ]
     },
     "execution_count": 127,
     "metadata": {},
     "output_type": "execute_result"
    }
   ],
   "source": [
    "zero_indicies_movie =np.where(y_movie==0)[0]\n",
    "one_indicies_movie = np.where(y_movie==1)[0]\n",
    "zero_indicies_movie"
   ]
  },
  {
   "cell_type": "code",
   "execution_count": 128,
   "metadata": {},
   "outputs": [],
   "source": [
    "# build a validation set\n",
    "val_indicies_movie = np.concatenate([zero_indicies_movie[:500], one_indicies_movie[:500]])\n",
    "val_data_movie = []\n",
    "for i in val_indicies_movie:\n",
    "    val_data_movie.append(X_movie[i])\n",
    "y_val_movie = y_movie.iloc[val_indicies_movie]"
   ]
  },
  {
   "cell_type": "code",
   "execution_count": 141,
   "metadata": {},
   "outputs": [],
   "source": [
    "y_val_movie = np.array(y_val_movie)"
   ]
  },
  {
   "cell_type": "code",
   "execution_count": 146,
   "metadata": {},
   "outputs": [
    {
     "name": "stdout",
     "output_type": "stream",
     "text": [
      "Error\n",
      "0.68\n"
     ]
    }
   ],
   "source": [
    "with torch.no_grad():\n",
    "    count = 0 # count the correct instances\n",
    "\n",
    "    for i in range(len(val_data_movie)):\n",
    "      # get sentence and convert to tensor\n",
    "      sentence = val_data_movie[i]\n",
    "      sentence = sentenceToTensor(sentence)\n",
    "      if not sentence.shape[0]:\n",
    "        print('Error')\n",
    "        continue\n",
    "      category = torch.tensor([[y_val_movie[i]]], dtype=torch.float)\n",
    "\n",
    "      # get prediction\n",
    "      pred = model(sentence)\n",
    "      # print(category.item(), pred.item())\n",
    "\n",
    "      # check accuracy\n",
    "      classification = 1 if pred.item() > 0.5 else 0\n",
    "      if classification == category.item():\n",
    "          count+= 1\n",
    "    \n",
    "    # return the accuracy\n",
    "    print(count/len(val_data_movie))"
   ]
  }
 ],
 "metadata": {
  "kernelspec": {
   "display_name": "base",
   "language": "python",
   "name": "python3"
  },
  "language_info": {
   "codemirror_mode": {
    "name": "ipython",
    "version": 3
   },
   "file_extension": ".py",
   "mimetype": "text/x-python",
   "name": "python",
   "nbconvert_exporter": "python",
   "pygments_lexer": "ipython3",
   "version": "3.9.13"
  },
  "orig_nbformat": 4,
  "vscode": {
   "interpreter": {
    "hash": "c6e4e9f98eb68ad3b7c296f83d20e6de614cb42e90992a65aa266555a3137d0d"
   }
  }
 },
 "nbformat": 4,
 "nbformat_minor": 2
}
