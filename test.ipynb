{
 "cells": [
  {
   "cell_type": "code",
   "execution_count": 2,
   "metadata": {},
   "outputs": [],
   "source": [
    "import pandas as pd\n",
    "import numpy as np"
   ]
  },
  {
   "cell_type": "code",
   "execution_count": 8,
   "metadata": {},
   "outputs": [],
   "source": [
    "data = pd.read_csv('Reviews.csv')"
   ]
  },
  {
   "cell_type": "code",
   "execution_count": 82,
   "metadata": {},
   "outputs": [
    {
     "data": {
      "text/plain": [
       "Text(0.5, 1.0, 'Histogram of Scores')"
      ]
     },
     "execution_count": 82,
     "metadata": {},
     "output_type": "execute_result"
    },
    {
     "data": {
      "image/png": "[encoded data removed]",
      "text/plain": [
       "<Figure size 432x288 with 1 Axes>"
      ]
     },
     "metadata": {
      "needs_background": "light"
     },
     "output_type": "display_data"
    }
   ],
   "source": [
    "import matplotlib.pyplot as plt\n",
    "plt.hist(data['Score'], bins=[0.5,1.5,2.5,3.5,4.5,5.5], rwidth=0.8)\n",
    "plt.title('Histogram of Scores')"
   ]
  },
  {
   "cell_type": "code",
   "execution_count": 88,
   "metadata": {},
   "outputs": [
    {
     "data": {
      "text/plain": [
       "0.6370684206117315"
      ]
     },
     "execution_count": 88,
     "metadata": {},
     "output_type": "execute_result"
    }
   ],
   "source": [
    "data['Score'].value_counts()[5]/data['Score'].value_counts().sum()"
   ]
  },
  {
   "cell_type": "code",
   "execution_count": 6,
   "metadata": {},
   "outputs": [],
   "source": [
    "import warnings\n",
    "warnings.filterwarnings(\"ignore\")                     #Ignoring unnecessory warnings\n",
    "\n",
    "import numpy as np                                  #for large and multi-dimensional arrays\n",
    "import pandas as pd\n",
    "\n",
    "import nltk                                         #Natural language processing tool-kit\n",
    "\n",
    "from nltk.corpus import stopwords                   #Stopwords corpus\n",
    "from nltk.stem import PorterStemmer                 # Stemmer\n",
    "\n",
    "from sklearn.feature_extraction.text import CountVectorizer          #For Bag of words\n",
    "from sklearn.feature_extraction.text import TfidfVectorizer          #For TF-IDF\n",
    "from gensim.models import Word2Vec "
   ]
  },
  {
   "cell_type": "code",
   "execution_count": 9,
   "metadata": {},
   "outputs": [
    {
     "name": "stderr",
     "output_type": "stream",
     "text": [
      "[nltk_data] Downloading package stopwords to\n",
      "[nltk_data]     /Users/klejdisevdari/nltk_data...\n",
      "[nltk_data]   Unzipping corpora/stopwords.zip.\n"
     ]
    }
   ],
   "source": [
    "#basic cleaning\n",
    "import time\n",
    "\n",
    "data = data.drop_duplicates(subset = {\"UserId\",\"ProfileName\",\"Time\",\"Text\"})\n",
    "data = data[data['HelpfulnessNumerator'] <= data['HelpfulnessDenominator']]\n",
    "\n",
    "nltk.download('stopwords')\n",
    "\n",
    "stop = set(stopwords.words('english'))\n",
    "\n",
    "#removing spaces and stopwords\n",
    "import re\n",
    "# function to clean data\n",
    "def clean_data(X):\n",
    "    temp =[]\n",
    "    snow = nltk.stem.SnowballStemmer('english')\n",
    "    start = time.time()\n",
    "    for i, sentence in enumerate(X):\n",
    "        if i%10000 == 0:\n",
    "            print(i, 'Time taken:', time.time()-start)\n",
    "            start = time.time()\n",
    "        sentence = sentence.lower()                 # Converting to lowercase\n",
    "        cleanr = re.compile('<.*?>')\n",
    "        sentence = re.sub(cleanr, ' ', sentence)        #Removing HTML tags\n",
    "        sentence = re.sub(r'[?|!|\\'|\"|#]',r'',sentence)\n",
    "        sentence = re.sub(r'[.|,|)|(|\\|/]',r' ',sentence)        #Removing Punctuations\n",
    "\n",
    "        words = [snow.stem(word) for word in sentence.split() if word not in stopwords.words('english')]   # Stemming and removing stopwords\n",
    "        temp.append(words)\n",
    "\n",
    "    X = temp    \n",
    "\n",
    "    sent = []\n",
    "    for row in X:\n",
    "        sequ = ''\n",
    "        for word in row:\n",
    "            sequ = sequ + ' ' + word\n",
    "        sent.append(sequ)\n",
    "\n",
    "    return sent"
   ]
  },
  {
   "cell_type": "code",
   "execution_count": 10,
   "metadata": {},
   "outputs": [
    {
     "data": {
      "text/plain": [
       "((393931,), (393931,))"
      ]
     },
     "execution_count": 10,
     "metadata": {},
     "output_type": "execute_result"
    }
   ],
   "source": [
    "# full data Logistic Regression\n",
    "X, y = data['Text'], data['Score']\n",
    "X.shape, y.shape"
   ]
  },
  {
   "cell_type": "code",
   "execution_count": 11,
   "metadata": {},
   "outputs": [
    {
     "name": "stdout",
     "output_type": "stream",
     "text": [
      "0 Time taken: 2.09808349609375e-05\n",
      "10000 Time taken: 37.41135382652283\n",
      "20000 Time taken: 40.35683012008667\n",
      "30000 Time taken: 37.84476685523987\n",
      "40000 Time taken: 38.13825702667236\n",
      "50000 Time taken: 38.33553409576416\n",
      "60000 Time taken: 40.286473989486694\n",
      "70000 Time taken: 42.700039863586426\n",
      "80000 Time taken: 38.96642184257507\n",
      "90000 Time taken: 39.81103801727295\n",
      "100000 Time taken: 36.96405291557312\n",
      "110000 Time taken: 38.304811000823975\n",
      "120000 Time taken: 42.17007303237915\n",
      "130000 Time taken: 37.927468061447144\n",
      "140000 Time taken: 36.52198123931885\n",
      "150000 Time taken: 39.42454195022583\n",
      "160000 Time taken: 39.994914054870605\n",
      "170000 Time taken: 39.07661581039429\n",
      "180000 Time taken: 37.804816007614136\n",
      "190000 Time taken: 38.174763202667236\n",
      "200000 Time taken: 42.023658990859985\n",
      "210000 Time taken: 38.21541881561279\n",
      "220000 Time taken: 37.75209593772888\n",
      "230000 Time taken: 39.77808380126953\n",
      "240000 Time taken: 36.17575478553772\n",
      "250000 Time taken: 37.346688985824585\n",
      "260000 Time taken: 38.087172985076904\n",
      "270000 Time taken: 36.522510051727295\n",
      "280000 Time taken: 40.31922006607056\n",
      "290000 Time taken: 37.20175004005432\n",
      "300000 Time taken: 40.070486068725586\n",
      "310000 Time taken: 38.557918071746826\n",
      "320000 Time taken: 37.7169349193573\n",
      "330000 Time taken: 36.59336709976196\n",
      "340000 Time taken: 36.77137041091919\n",
      "350000 Time taken: 37.42918395996094\n",
      "360000 Time taken: 38.64459300041199\n",
      "370000 Time taken: 38.312204122543335\n",
      "380000 Time taken: 38.97615385055542\n",
      "390000 Time taken: 38.28155326843262\n"
     ]
    }
   ],
   "source": [
    "X = clean_data(X)"
   ]
  },
  {
   "cell_type": "code",
   "execution_count": 19,
   "metadata": {},
   "outputs": [
    {
     "data": {
      "text/plain": [
       "393931"
      ]
     },
     "execution_count": 19,
     "metadata": {},
     "output_type": "execute_result"
    }
   ],
   "source": [
    "X"
   ]
  },
  {
   "cell_type": "code",
   "execution_count": 22,
   "metadata": {},
   "outputs": [],
   "source": [
    "# write to a new file the entries of X\n",
    "with open('cleaned_data.txt', 'w') as f:\n",
    "    for item in X:\n",
    "        f.write(item + '\\n')"
   ]
  },
  {
   "cell_type": "code",
   "execution_count": 15,
   "metadata": {},
   "outputs": [],
   "source": [
    "from sklearn.feature_extraction.text import CountVectorizer\n",
    "from sklearn.model_selection import train_test_split\n",
    "X_train, X_test, y_train, y_test = train_test_split(X,y,test_size=0.2,random_state=42)\n",
    "# Create a CountVectorizer object to convert our bags of words into a matrix of word counts\n",
    "vectorizer = CountVectorizer()\n",
    "\n",
    "# Use the vectorizer to transform our training data into a matrix of word counts\n",
    "X_train = vectorizer.fit_transform(X_train)"
   ]
  },
  {
   "cell_type": "code",
   "execution_count": 20,
   "metadata": {},
   "outputs": [
    {
     "data": {
      "text/plain": [
       "(315144, 79759)"
      ]
     },
     "execution_count": 20,
     "metadata": {},
     "output_type": "execute_result"
    }
   ],
   "source": [
    "X_train.shape"
   ]
  },
  {
   "cell_type": "code",
   "execution_count": 16,
   "metadata": {},
   "outputs": [
    {
     "data": {
      "text/html": [
       "<style>#sk-container-id-1 {color: black;background-color: white;}#sk-container-id-1 pre{padding: 0;}#sk-container-id-1 div.sk-toggleable {background-color: white;}#sk-container-id-1 label.sk-toggleable__label {cursor: pointer;display: block;width: 100%;margin-bottom: 0;padding: 0.3em;box-sizing: border-box;text-align: center;}#sk-container-id-1 label.sk-toggleable__label-arrow:before {content: \"▸\";float: left;margin-right: 0.25em;color: #696969;}#sk-container-id-1 label.sk-toggleable__label-arrow:hover:before {color: black;}#sk-container-id-1 div.sk-estimator:hover label.sk-toggleable__label-arrow:before {color: black;}#sk-container-id-1 div.sk-toggleable__content {max-height: 0;max-width: 0;overflow: hidden;text-align: left;background-color: #f0f8ff;}#sk-container-id-1 div.sk-toggleable__content pre {margin: 0.2em;color: black;border-radius: 0.25em;background-color: #f0f8ff;}#sk-container-id-1 input.sk-toggleable__control:checked~div.sk-toggleable__content {max-height: 200px;max-width: 100%;overflow: auto;}#sk-container-id-1 input.sk-toggleable__control:checked~label.sk-toggleable__label-arrow:before {content: \"▾\";}#sk-container-id-1 div.sk-estimator input.sk-toggleable__control:checked~label.sk-toggleable__label {background-color: #d4ebff;}#sk-container-id-1 div.sk-label input.sk-toggleable__control:checked~label.sk-toggleable__label {background-color: #d4ebff;}#sk-container-id-1 input.sk-hidden--visually {border: 0;clip: rect(1px 1px 1px 1px);clip: rect(1px, 1px, 1px, 1px);height: 1px;margin: -1px;overflow: hidden;padding: 0;position: absolute;width: 1px;}#sk-container-id-1 div.sk-estimator {font-family: monospace;background-color: #f0f8ff;border: 1px dotted black;border-radius: 0.25em;box-sizing: border-box;margin-bottom: 0.5em;}#sk-container-id-1 div.sk-estimator:hover {background-color: #d4ebff;}#sk-container-id-1 div.sk-parallel-item::after {content: \"\";width: 100%;border-bottom: 1px solid gray;flex-grow: 1;}#sk-container-id-1 div.sk-label:hover label.sk-toggleable__label {background-color: #d4ebff;}#sk-container-id-1 div.sk-serial::before {content: \"\";position: absolute;border-left: 1px solid gray;box-sizing: border-box;top: 0;bottom: 0;left: 50%;z-index: 0;}#sk-container-id-1 div.sk-serial {display: flex;flex-direction: column;align-items: center;background-color: white;padding-right: 0.2em;padding-left: 0.2em;position: relative;}#sk-container-id-1 div.sk-item {position: relative;z-index: 1;}#sk-container-id-1 div.sk-parallel {display: flex;align-items: stretch;justify-content: center;background-color: white;position: relative;}#sk-container-id-1 div.sk-item::before, #sk-container-id-1 div.sk-parallel-item::before {content: \"\";position: absolute;border-left: 1px solid gray;box-sizing: border-box;top: 0;bottom: 0;left: 50%;z-index: -1;}#sk-container-id-1 div.sk-parallel-item {display: flex;flex-direction: column;z-index: 1;position: relative;background-color: white;}#sk-container-id-1 div.sk-parallel-item:first-child::after {align-self: flex-end;width: 50%;}#sk-container-id-1 div.sk-parallel-item:last-child::after {align-self: flex-start;width: 50%;}#sk-container-id-1 div.sk-parallel-item:only-child::after {width: 0;}#sk-container-id-1 div.sk-dashed-wrapped {border: 1px dashed gray;margin: 0 0.4em 0.5em 0.4em;box-sizing: border-box;padding-bottom: 0.4em;background-color: white;}#sk-container-id-1 div.sk-label label {font-family: monospace;font-weight: bold;display: inline-block;line-height: 1.2em;}#sk-container-id-1 div.sk-label-container {text-align: center;}#sk-container-id-1 div.sk-container {/* jupyter's `normalize.less` sets `[hidden] { display: none; }` but bootstrap.min.css set `[hidden] { display: none !important; }` so we also need the `!important` here to be able to override the default hidden behavior on the sphinx rendered scikit-learn.org. See: https://github.com/scikit-learn/scikit-learn/issues/21755 */display: inline-block !important;position: relative;}#sk-container-id-1 div.sk-text-repr-fallback {display: none;}</style><div id=\"sk-container-id-1\" class=\"sk-top-container\"><div class=\"sk-text-repr-fallback\"><pre>LogisticRegression()</pre><b>In a Jupyter environment, please rerun this cell to show the HTML representation or trust the notebook. <br />On GitHub, the HTML representation is unable to render, please try loading this page with nbviewer.org.</b></div><div class=\"sk-container\" hidden><div class=\"sk-item\"><div class=\"sk-estimator sk-toggleable\"><input class=\"sk-toggleable__control sk-hidden--visually\" id=\"sk-estimator-id-1\" type=\"checkbox\" checked><label for=\"sk-estimator-id-1\" class=\"sk-toggleable__label sk-toggleable__label-arrow\">LogisticRegression</label><div class=\"sk-toggleable__content\"><pre>LogisticRegression()</pre></div></div></div></div></div>"
      ],
      "text/plain": [
       "LogisticRegression()"
      ]
     },
     "execution_count": 16,
     "metadata": {},
     "output_type": "execute_result"
    }
   ],
   "source": [
    "from sklearn.linear_model import LogisticRegression\n",
    "clf = LogisticRegression()\n",
    "clf.fit(X_train, y_train)"
   ]
  },
  {
   "cell_type": "code",
   "execution_count": 17,
   "metadata": {},
   "outputs": [
    {
     "name": "stdout",
     "output_type": "stream",
     "text": [
      "Accuracy: 0.7118814017540965\n"
     ]
    }
   ],
   "source": [
    "# Use the vectorizer to transform our test data into a matrix of n-grams\n",
    "X_test = vectorizer.transform(X_test)\n",
    "\n",
    "# Use the classifier to predict the labels for our test data\n",
    "y_pred = clf.predict(X_test)\n",
    "\n",
    "# Evaluate the performance of our classifier using accuracy as the metric\n",
    "from sklearn.metrics import accuracy_score\n",
    "accuracy = accuracy_score(y_test, y_pred)\n",
    "print(\"Accuracy:\", accuracy)"
   ]
  },
  {
   "cell_type": "code",
   "execution_count": 23,
   "metadata": {},
   "outputs": [
    {
     "name": "stdout",
     "output_type": "stream",
     "text": [
      "Accuracy: 0.719877644789115\n"
     ]
    }
   ],
   "source": [
    "#For TF-IDF \n",
    "X_train, X_test, y_train, y_test = train_test_split(X,y,test_size=0.2,random_state=42)\n",
    "\n",
    "# Create a TfidfVectorizer object to convert our text into a matrix of TF-IDF features\n",
    "vectorizer = TfidfVectorizer()\n",
    "\n",
    "# Use the vectorizer to transform our training data into a matrix of TF-IDF features\n",
    "X_train = vectorizer.fit_transform(X_train)\n",
    "\n",
    "# Create a decision tree classifier and fit it to our training data\n",
    "clf = LogisticRegression()\n",
    "clf.fit(X_train, y_train)\n",
    "\n",
    "# Use the vectorizer to transform our test data into a matrix of TF-IDF features\n",
    "X_test = vectorizer.transform(X_test)\n",
    "\n",
    "# Extract the labels from our test data\n",
    "y_test = y_test\n",
    "\n",
    "# Use the classifier to predict the labels for our test data\n",
    "y_pred = clf.predict(X_test)\n",
    "\n",
    "# Evaluate the performance of our classifier using accuracy as the metric\n",
    "from sklearn.metrics import accuracy_score\n",
    "accuracy = accuracy_score(y_test, y_pred)\n",
    "print(\"Accuracy:\", accuracy)"
   ]
  },
  {
   "cell_type": "code",
   "execution_count": 25,
   "metadata": {},
   "outputs": [
    {
     "data": {
      "text/plain": [
       "(8529, 4)"
      ]
     },
     "execution_count": 25,
     "metadata": {},
     "output_type": "execute_result"
    }
   ],
   "source": [
    "movie_reviews = pd.read_csv('movie_train.tsv', sep='\\t');\n",
    "movie_reviews = movie_reviews.drop_duplicates(subset=['SentenceId'], keep='first')\n"
   ]
  },
  {
   "cell_type": "code",
   "execution_count": 26,
   "metadata": {},
   "outputs": [
    {
     "data": {
      "text/plain": [
       "((8529,), (8529,))"
      ]
     },
     "execution_count": 26,
     "metadata": {},
     "output_type": "execute_result"
    }
   ],
   "source": [
    "X_movie = movie_reviews['Phrase']\n",
    "y_movie = movie_reviews['Sentiment'] + 1\n",
    "X_movie.shape, y_movie.shape"
   ]
  },
  {
   "cell_type": "code",
   "execution_count": 27,
   "metadata": {},
   "outputs": [
    {
     "name": "stdout",
     "output_type": "stream",
     "text": [
      "0 Time taken: 2.8848648071289062e-05\n"
     ]
    }
   ],
   "source": [
    "X_movie = clean_data(X_movie)"
   ]
  },
  {
   "cell_type": "code",
   "execution_count": 28,
   "metadata": {},
   "outputs": [],
   "source": [
    "X_movie = vectorizer.transform(X_movie)"
   ]
  },
  {
   "cell_type": "code",
   "execution_count": 29,
   "metadata": {},
   "outputs": [
    {
     "name": "stdout",
     "output_type": "stream",
     "text": [
      "Accuracy: 0.19896822605229217\n"
     ]
    }
   ],
   "source": [
    "y_pred = clf.predict(X_movie)\n",
    "accuracy = accuracy_score(y_movie, y_pred)\n",
    "print(\"Accuracy:\", accuracy)"
   ]
  },
  {
   "cell_type": "code",
   "execution_count": 92,
   "metadata": {},
   "outputs": [
    {
     "name": "stdout",
     "output_type": "stream",
     "text": [
      "These individually wrapped pieces are delicious (although I wish there were a few more). Mildly sweet with no sugar-free aftertaste, even a traditional \"marzipan-aholic\" should enjoy these.\n",
      "[5]\n",
      "Put this in my husbands stocking for Christmas and it was a hit.\n",
      "[5]\n",
      "I was amazed at how quickly it arrived!  It is a cute stocking stuffer, but only OK as far as user appeal.  You get what you pay for.\n",
      "[3]\n",
      "Toy was typical quality I expected.  I got taken for a major ride on the shipping!\n",
      "[5]\n",
      "So we cancelled the order.  It was cancelled without any problem.  That is a positive note...\n",
      "[5]\n",
      "i love the convenience of the singles. The best creamer around.Taste is just like the big bottle. I can stick them in my purse and take them to work.\n",
      "[5]\n",
      "These creamers come in 4 packs of 25. I have taken one to work and opened one for home so far, and haven't found a single broken or leaking creamer yet. I usually have way too much cream and sugar in my coffee, but with these it is easy for me to cut down on the sweetness because I won't allow myself more than 2 creamers per cup. I think this is definitely the best option for buying creamers from Amazon since all the other listings have a lot of complaints about creamers breaking in shipping!\n",
      "[5]\n",
      "Even though we are International Delight fans we were not completely dissapointed by this product. We had no problem with the shipment, but the creamer itself is thinner than International Delight. Other than that we are happy :D\n",
      "[5]\n",
      "Besides the obvious convenience and portability of the individual creamers, I liked this item specifically because of packaging. I couldn't believe how many reviews I read about coffee creamer cups; but many of the Amazon creamer options (both Coffeemate and International Delight) had multiple negative reviews due to the shipment arriving with broken cups thanks to sloppy packaging.<br /><br />That was not an issue here. The shipment arrived in four dispensing boxes of 50 each (as shown in the photo); those boxes were tightly packed in a thick cardboard box which could take a good beating before damaging the inner boxes. Thus, none of my cups were broken, no waste and no sloppy drippy mess. Plus the four boxes means I could put one in the kitchen, one in the bathroom (we moved our mini Keurig there when we upgraded the kitchen Keurig - best idea my husband ever had), and one at work, with a reserve for whichever runs out first.<br /><br />If you are looking for these mini creamers but deterred like I was by the negative packaging reviews on other options, this is your best bet. As a bonus, the auto delivery price is very reasonable.\n",
      "[5]\n",
      "This seller is very nice.  And the price is very good.  The only reason I stop ording is bacause I went to sugar free, and at that time he did not have it.  But for those of you that don't have to watch there fat in take, I would get this product from them.\n",
      "[5]\n",
      "I purchased these coffee mate singles to use at work along with the coffee \"tea\" bags.  They're great because they don't require refrigeration.\n",
      "[5]\n",
      "I received the items in a timely manner. Upon receipt, I removed a pack to consume. The pop-tart was STALE and left an awful taste in my mouth.\n",
      "[1]\n",
      "I found these new spring Pop-Tarts and bought them on a whim.  My kids and I were amazed and delighted at the fun, colorful, amazingly detailed artwork on these Pop-Tarts.  Fantastic for after school snacks, lunch boxes, and school treats. Tie with a ribbon for a bright \"thinking of you this spring\" gift.  The only challenge is finding more in stores.  Way to go Kellogg's - fantastic product!\n",
      "[5]\n",
      "Yes, I am having a cup right now.  I went all over town looking for this coffee after been invited to a non profit organization to a banquet and besides the delicious food they top it off with this amazing delicious coffee.  I paid and extra 20 bucks to get it right way and it is worth the money. Highly recommend.\n",
      "[5]\n",
      "Taste like it is stale.  Will not order this again.  I had this coffee at a 50th year annerversery at a reception hall and had to have it.  This stuff tasted NOTHING, like the Douwe Egberts at the hall.  This is possibly stale coffee.\n",
      "[1]\n",
      "Serveice delivery with the seller was excellent. The product was not. Will not order again. Bad taste. Iam not sure if it was old or that how it tastes. I throw it right away, i coudl not drink it.\n",
      "[1]\n",
      "This is honestly THE BEST seasoning salt in all the land.  It tightens up any dish; not spicy, just perfectly seasoned.  It's perfect, hence, my purchase of this 35 oz. mamma jamma.\n",
      "[5]\n",
      "The order arrived as advertised. I have had only a few chances to use it, but it is awesome. The flavor is exactly what I hoped for! It may take me a while to finish the entire gallon, but I will definnantly order again!\n",
      "[5]\n",
      "I like a lot of sesame oil and use it in salads regularly.  Great quality, flavor and aroma.  Can't beat that its organic!\n",
      "[5]\n",
      "Bought a set of two when my son was about 6 months, and we started taking them with us whenever we went out to eat.  I cut up cantaloupe, apple, banana (even used sweet potatoes a few times)-- just whatever I could get at the restaurant-- and it would keep my son busy long enough that I could actually eat!  It's great because I didn't have to be overly worried about him choking on big chunks, and he got to try out new foods.  I wouldn't hesitate to buy this again.\n",
      "[5]\n"
     ]
    }
   ],
   "source": [
    "for ind in range(320, 340):\n",
    "  print(data['Text'][ind])\n",
    "  y = clf.predict(vectorizer.transform([data['Text'][ind]]))\n",
    "  print(y)"
   ]
  },
  {
   "cell_type": "code",
   "execution_count": 106,
   "metadata": {},
   "outputs": [
    {
     "name": "stdout",
     "output_type": "stream",
     "text": [
      "[5]\n"
     ]
    }
   ],
   "source": [
    "sentence = \"I love this product.\"\n",
    "vectorized = vectorizer.transform([sentence])\n",
    "y = clf.predict(vectorized)\n",
    "print(y)"
   ]
  },
  {
   "cell_type": "markdown",
   "metadata": {},
   "source": []
  },
  {
   "cell_type": "code",
   "execution_count": 90,
   "metadata": {},
   "outputs": [
    {
     "data": {
      "text/plain": [
       "(array([ 30450.,      0.,   5856.,      0.,      0.,  15927.,      0.,\n",
       "         19391.,      0., 243520.]),\n",
       " array([1. , 1.4, 1.8, 2.2, 2.6, 3. , 3.4, 3.8, 4.2, 4.6, 5. ]),\n",
       " <BarContainer object of 10 artists>)"
      ]
     },
     "execution_count": 90,
     "metadata": {},
     "output_type": "execute_result"
    },
    {
     "data": {
      "image/png": "[encoded data removed]",
      "text/plain": [
       "<Figure size 432x288 with 1 Axes>"
      ]
     },
     "metadata": {
      "needs_background": "light"
     },
     "output_type": "display_data"
    }
   ],
   "source": [
    "plt.hist(clf.predict(X_train))"
   ]
  }
 ],
 "metadata": {
  "kernelspec": {
   "display_name": "base",
   "language": "python",
   "name": "python3"
  },
  "language_info": {
   "codemirror_mode": {
    "name": "ipython",
    "version": 3
   },
   "file_extension": ".py",
   "mimetype": "text/x-python",
   "name": "python",
   "nbconvert_exporter": "python",
   "pygments_lexer": "ipython3",
   "version": "3.9.13 | packaged by conda-forge | (main, May 27 2022, 17:00:33) \n[Clang 13.0.1 ]"
  },
  "orig_nbformat": 4,
  "vscode": {
   "interpreter": {
    "hash": "c6e4e9f98eb68ad3b7c296f83d20e6de614cb42e90992a65aa266555a3137d0d"
   }
  }
 },
 "nbformat": 4,
 "nbformat_minor": 2
}
