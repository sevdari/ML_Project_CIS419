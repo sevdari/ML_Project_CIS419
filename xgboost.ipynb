{
 "cells": [
  {
   "cell_type": "code",
   "execution_count": 1,
   "metadata": {},
   "outputs": [],
   "source": [
    "import numpy as np\n",
    "import pandas as pd\n",
    "import matplotlib.pyplot as plt\n",
    "import torch\n"
   ]
  },
  {
   "cell_type": "code",
   "execution_count": 2,
   "metadata": {},
   "outputs": [],
   "source": [
    "import warnings\n",
    "warnings.filterwarnings(\"ignore\")                     #Ignoring unnecessory warnings\n",
    "\n",
    "import numpy as np                                  #for large and multi-dimensional arrays\n",
    "import pandas as pd\n",
    "\n",
    "import nltk                                         #Natural language processing tool-kit\n",
    "\n",
    "from nltk.corpus import stopwords                   #Stopwords corpus\n",
    "from nltk.stem import PorterStemmer                 # Stemmer\n",
    "\n",
    "from sklearn.feature_extraction.text import CountVectorizer          #For Bag of words\n",
    "from sklearn.feature_extraction.text import TfidfVectorizer          #For TF-IDF\n",
    "from gensim.w2vs import Word2Vec "
   ]
  },
  {
   "cell_type": "code",
   "execution_count": 41,
   "metadata": {},
   "outputs": [],
   "source": [
    "#basic cleaning\n",
    "import time\n",
    "\n",
    "data = data.drop_duplicates(subset = {\"UserId\",\"ProfileName\",\"Time\",\"Text\"})\n",
    "data = data[data['HelpfulnessNumerator'] <= data['HelpfulnessDenominator']]\n",
    "\n",
    "nltk.download('stopwords')\n",
    "\n",
    "stop = set(stopwords.words('english'))\n",
    "\n",
    "#removing spaces and stopwords\n",
    "import re\n",
    "# function to clean data\n",
    "def clean_data(X):\n",
    "    temp =[]\n",
    "    snow = nltk.stem.SnowballStemmer('english')\n",
    "    start = time.time()\n",
    "    for i, sentence in enumerate(X):\n",
    "        if i%10000 == 0:\n",
    "            print(i, 'Time taken:', time.time()-start)\n",
    "            start = time.time()\n",
    "        sentence = sentence.lower()                 # Converting to lowercase\n",
    "        cleanr = re.compile('<.*?>')\n",
    "        sentence = re.sub(cleanr, ' ', sentence)        #Removing HTML tags\n",
    "        sentence = re.sub(r'[?|!|\\'|\"|#]',r'',sentence)\n",
    "        sentence = re.sub(r'[.|,|)|(|\\|/]',r' ',sentence)        #Removing Punctuations\n",
    "\n",
    "        words = [snow.stem(word) for word in sentence.split()]   # Stemming\n",
    "        temp.append(words)\n",
    "\n",
    "    X = temp    \n",
    "\n",
    "    sent = []\n",
    "    for row in X:\n",
    "        sequ = ''\n",
    "        for word in row:\n",
    "            sequ = sequ + ' ' + word\n",
    "        sent.append(sequ)\n",
    "\n",
    "    return sent"
   ]
  },
  {
   "cell_type": "code",
   "execution_count": 3,
   "metadata": {},
   "outputs": [],
   "source": [
    "cleaned_data = pd.read_csv(\"C:/Users/micha/Downloads/cleaned_data.csv\")"
   ]
  },
  {
   "cell_type": "code",
   "execution_count": 24,
   "metadata": {},
   "outputs": [],
   "source": [
    "X, y = cleaned_data['Text'], cleaned_data['Score']"
   ]
  },
  {
   "cell_type": "code",
   "execution_count": 133,
   "metadata": {},
   "outputs": [
    {
     "data": {
      "text/plain": [
       "<AxesSubplot:>"
      ]
     },
     "execution_count": 133,
     "metadata": {},
     "output_type": "execute_result"
    },
    {
     "data": {
      "image/png": "[encoded data removed]",
      "text/plain": [
       "<Figure size 640x480 with 1 Axes>"
      ]
     },
     "metadata": {},
     "output_type": "display_data"
    }
   ],
   "source": [
    "y.value_counts().plot(kind='bar')"
   ]
  },
  {
   "cell_type": "code",
   "execution_count": 134,
   "metadata": {},
   "outputs": [],
   "source": [
    "X = np.array(X)\n",
    "y = np.array(y)"
   ]
  },
  {
   "cell_type": "code",
   "execution_count": 5,
   "metadata": {},
   "outputs": [
    {
     "name": "stdout",
     "output_type": "stream",
     "text": [
      "<class 'pandas.core.series.Series'>\n",
      "<class 'pandas.core.series.Series'>\n"
     ]
    }
   ],
   "source": [
    "print(type(X))\n",
    "print(type(y))"
   ]
  },
  {
   "attachments": {},
   "cell_type": "markdown",
   "metadata": {},
   "source": [
    "# Train Val Test Splitting\n"
   ]
  },
  {
   "cell_type": "code",
   "execution_count": 13,
   "metadata": {},
   "outputs": [
    {
     "ename": "KeyError",
     "evalue": "'[6240, 103101, 132012, 118346, 69678, 88065, 77283, 67678, 11370, 119636, 103058, 84350, 127436, 82990, 48312, 26324, 3711, 44976, 10303, 11962, 131641, 45099, 81899, 107770, 42312, 17753, 74373, 49704, 52256, 70211, 45685, 126593, 65367, 63933, 82366, 126367, 20829, 125395, 95147, 39374, 20359, 77745, 115421, 83684, 97041, 22449, 107053, 89064, 128864, 96635, 112664, 11635, 94570, 80720, 119419, 21796, 79041, 130782, 76993, 41201, 66625, 58450, 27695, 122371, 6787, 99336, 106295, 32975, 27402, 39926, 2721, 65128, 99464, 55611, 58617, 39928, 37133, 128457, 62765, 93617, 75491, 107562, 22642, 88431, 32381, 125915, 12183, 74898, 120600, 15992, 65734, 60435, 108560, 117120, 116485, 111626, 13633, 7476, 70581, 7023, 96693, 2479, 72222, 64377, 124719, 110532, 48584, 31094, 93922, 58788, 97901, 107225, 83495, 134209, 24437, 23667, 77749, 94509, 61308, 53613, 101388, 52441, 69710, 15713, 70751, 135790, 19296, 23377, 31911, 48282, 11155, 19377, 34810, 29628, 81882, 96308, 42238, 84278, 17713, 46880, 131277, 33572, 18124, 127190, 12489, 130445, 5210, 28592, 88614, 75006, 128809, 54442, 88386, 67049, 114195, 23330, 70278, 62949, 119173, 19384, 53207, 115040, 127569, 10461, 101602, 100471, 126351, 81693, 32782, 53885, 74919, 121867, 55905, 102024, 3993, 83428, 92480, 45167, 113042, 111441, 86933, 5479, 44140, 96713, 111536, 75007, 62210, 20633, 120394, 15590, 95545, 51741, 93583, 66047, 108218, 126642, 10653, 21672, 29692, 128655, 101506, 23308, 130077, 54804, 119995, 109993, 56207, 29064, 131872, 109288, 81027, 72431, 61262, 58947, 123157, 107943, 55620, 50157, 73943, 119915, 125663, 100445, 64864, 56401, 109366, 3404, 16200, 68142, 107690, 77879, 134736, 88323, 41639, 125071, 68500, 115670, 39804, 109456, 116360, 125325, 97307, 2374, 74410, 19042, 1888, 88486, 64791, 14474, 13136, 22836, 81230, 59115, 80840, 96049, 46580, 89783, 84183, 18888, 131491, 113246, 74715, 111745, 63313, 126606, 96523, 91601, 56708, 29696, 72578, 115728, 122441, 53889, 108927, 47063, 8090, 50323, 58381, 55263, 93263, 13252, 105345, 85622, 17292, 91011, 56599, 70739, 136859, 117521, 20985, 76304, 120348, 124855, 76414, 43209, 47851, 42518, 17877, 7286, 80329, 132290, 47538, 22376, 28340, 134690, 74734, 10627, 85419, 32691, 121802, 136610, 72203, 87782, 96291, 118125, 7703, 87233, 87505, 49032, 92602, 108366, 45697, 95329, 79785, 51505, 591, 48657, 98897, 71537, 95203, 21179, 34519, 79410, 85572, 56454, 35373, 27223, 81261, 38050, 72515, 136432, 59906, 26678, 23490, 36764, 92264, 1401, 136232, 136367, 75801, 127997, 84566, 27533, 130556, 122144, 6114, 68929, 67108, 112109, 53966, 27993, 137147, 58773, 26137, 20256, 131393, 89962, 130007, 22848, 119737, 35837, 9339, 11050, 70144, 46135, 13938, 59899, 29586, 31388, 81225, 32421, 61145, 33947, 102080, 33726, 135959, 23673, 81922, 2195, 72696, 22830, 78899, 57282, 38148, 67822, 68114, 53717, 9784, 5627, 32814, 68395, 38467, 44483, 18543, 88516, 50027, 89028, 30684, 71647, 22197, 61974, 21673, 45502, 93934, 64241, 74004, 60100, 74862, 60168, 34126, 132299, 31363, 122670, 45633, 43808, 26514, 71706, 49810, 16181, 46403, 101457, 19506, 101309, 43299, 52601, 79569, 106259, 37709, 111329, 28945, 91207, 114993, 80271, 97552, 114901, 9596, 38964, 10844, 95678, 57943, 132117, 64707, 116856, 34824, 54399, 57302, 14651, 72664, 37706, 51786, 106300, 33929, 127889, 11870, 108109, 122105, 66616, 81110, 130250, 19595, 86324, 99768, 6506, 127551, 69863, 75195, 20394, 106420, 111489, 91399, 91208, 72535, 11213, 54316, 36138, 50799, 81561, 87348, 45914, 137048, 70225, 134345, 7322, 37663, 53965, 17584, 4681, 106054, 5964, 88082, 7773, 57874, 12783, 69322, 28131, 35654, 82277, 435, 42510, 20952, 106626, 22530, 102456, 126668, 122445, 117612, 115357, 6896, 47698, 77856, 47559, 14715, 32450, 53777, 96717, 124596, 132050, 40406, 83009, 18987, 38071, 76073, 137030, 44555, 47971, 1744, 134727, 121848, 14184, 71794, 10239, 36225, 114078, 127760, 93060, 40574, 13327, 107352, 49271, 9454, 78348, 3971, 14330, 69324, 83052, 129167, 97558, 14645, 97484, 70049, 46633, 87065, 93671, 20846, 10825, 9323, 9405, 40004, 119013, 114428, 12045, 85157, 92281, 31398, 77054, 53347, 126837, 122671, 76362, 49978, 97755, 27341, 85268, 10550, 117515, 108397, 73712, 7893, 70950, 32702, 15996, 91233, 830, 111734, 121951, 85437, 137808, 99613, 129486, 126453, 14242, 135650, 98973, 57520, 41957, 127303, 43683, 119353, 55573, 11174, 120117, 5815, 46554, 83167, 238, 31018, 121797, 52966, 126800, 103948, 86817, 41262, 42058, 134780, 122725, 119833, 42653, 55349, 83965, 112190, 15937, 88731, 75176, 21071, 58509, 100256, 40626, 5461, 86240, 53760, 6426, 17485, 104717, 79803, 62224, 80267, 88843, 13885, 110863, 99062, 122601, 111379] not in index'",
     "output_type": "error",
     "traceback": [
      "\u001b[1;31m---------------------------------------------------------------------------\u001b[0m",
      "\u001b[1;31mKeyError\u001b[0m                                  Traceback (most recent call last)",
      "\u001b[1;32m~\\AppData\\Local\\Temp\\ipykernel_6136\\4167040307.py\u001b[0m in \u001b[0;36m<module>\u001b[1;34m\u001b[0m\n\u001b[0;32m     22\u001b[0m     \u001b[1;32mreturn\u001b[0m \u001b[0mX_train\u001b[0m\u001b[1;33m,\u001b[0m \u001b[0mX_val_balanced\u001b[0m\u001b[1;33m,\u001b[0m \u001b[0mX_test\u001b[0m\u001b[1;33m,\u001b[0m \u001b[0my_train\u001b[0m\u001b[1;33m,\u001b[0m \u001b[0my_val_balanced\u001b[0m\u001b[1;33m,\u001b[0m \u001b[0my_test\u001b[0m\u001b[1;33m\u001b[0m\u001b[1;33m\u001b[0m\u001b[0m\n\u001b[0;32m     23\u001b[0m \u001b[1;33m\u001b[0m\u001b[0m\n\u001b[1;32m---> 24\u001b[1;33m \u001b[0mX_train\u001b[0m\u001b[1;33m,\u001b[0m \u001b[0mX_val_balanced\u001b[0m\u001b[1;33m,\u001b[0m \u001b[0mX_test\u001b[0m\u001b[1;33m,\u001b[0m \u001b[0my_train\u001b[0m\u001b[1;33m,\u001b[0m \u001b[0my_val_balanced\u001b[0m\u001b[1;33m,\u001b[0m \u001b[0my_test\u001b[0m \u001b[1;33m=\u001b[0m \u001b[0mbal_split\u001b[0m\u001b[1;33m(\u001b[0m\u001b[0mX\u001b[0m\u001b[1;33m,\u001b[0m\u001b[0my\u001b[0m\u001b[1;33m)\u001b[0m\u001b[1;33m\u001b[0m\u001b[1;33m\u001b[0m\u001b[0m\n\u001b[0m\u001b[0;32m     25\u001b[0m \u001b[1;33m\u001b[0m\u001b[0m\n\u001b[0;32m     26\u001b[0m \u001b[1;31m# Print the size and distribution of each set\u001b[0m\u001b[1;33m\u001b[0m\u001b[1;33m\u001b[0m\u001b[0m\n",
      "\u001b[1;32m~\\AppData\\Local\\Temp\\ipykernel_6136\\4167040307.py\u001b[0m in \u001b[0;36mbal_split\u001b[1;34m(X, y)\u001b[0m\n\u001b[0;32m     17\u001b[0m     \u001b[0mpositive_val_indices\u001b[0m \u001b[1;33m=\u001b[0m \u001b[0mnp\u001b[0m\u001b[1;33m.\u001b[0m\u001b[0mrandom\u001b[0m\u001b[1;33m.\u001b[0m\u001b[0mchoice\u001b[0m\u001b[1;33m(\u001b[0m\u001b[0mpositive_val_indices\u001b[0m\u001b[1;33m,\u001b[0m \u001b[0msize\u001b[0m\u001b[1;33m=\u001b[0m\u001b[1;36m1000\u001b[0m\u001b[1;33m,\u001b[0m \u001b[0mreplace\u001b[0m\u001b[1;33m=\u001b[0m\u001b[1;32mFalse\u001b[0m\u001b[1;33m)\u001b[0m\u001b[1;33m\u001b[0m\u001b[1;33m\u001b[0m\u001b[0m\n\u001b[0;32m     18\u001b[0m     \u001b[0mnegative_val_indices\u001b[0m \u001b[1;33m=\u001b[0m \u001b[0mnp\u001b[0m\u001b[1;33m.\u001b[0m\u001b[0mrandom\u001b[0m\u001b[1;33m.\u001b[0m\u001b[0mchoice\u001b[0m\u001b[1;33m(\u001b[0m\u001b[0mnegative_val_indices\u001b[0m\u001b[1;33m,\u001b[0m \u001b[0msize\u001b[0m\u001b[1;33m=\u001b[0m\u001b[1;36m1000\u001b[0m\u001b[1;33m,\u001b[0m \u001b[0mreplace\u001b[0m\u001b[1;33m=\u001b[0m\u001b[1;32mFalse\u001b[0m\u001b[1;33m)\u001b[0m\u001b[1;33m\u001b[0m\u001b[1;33m\u001b[0m\u001b[0m\n\u001b[1;32m---> 19\u001b[1;33m     \u001b[0mX_val_balanced\u001b[0m \u001b[1;33m=\u001b[0m \u001b[0mnp\u001b[0m\u001b[1;33m.\u001b[0m\u001b[0mconcatenate\u001b[0m\u001b[1;33m(\u001b[0m\u001b[1;33m(\u001b[0m\u001b[0mX_val\u001b[0m\u001b[1;33m[\u001b[0m\u001b[0mpositive_val_indices\u001b[0m\u001b[1;33m]\u001b[0m\u001b[1;33m,\u001b[0m \u001b[0mX_val\u001b[0m\u001b[1;33m[\u001b[0m\u001b[0mnegative_val_indices\u001b[0m\u001b[1;33m]\u001b[0m\u001b[1;33m)\u001b[0m\u001b[1;33m,\u001b[0m \u001b[0maxis\u001b[0m\u001b[1;33m=\u001b[0m\u001b[1;36m0\u001b[0m\u001b[1;33m)\u001b[0m\u001b[1;33m\u001b[0m\u001b[1;33m\u001b[0m\u001b[0m\n\u001b[0m\u001b[0;32m     20\u001b[0m     \u001b[0my_val_balanced\u001b[0m \u001b[1;33m=\u001b[0m \u001b[0mnp\u001b[0m\u001b[1;33m.\u001b[0m\u001b[0mconcatenate\u001b[0m\u001b[1;33m(\u001b[0m\u001b[1;33m(\u001b[0m\u001b[0mnp\u001b[0m\u001b[1;33m.\u001b[0m\u001b[0mones\u001b[0m\u001b[1;33m(\u001b[0m\u001b[1;36m1000\u001b[0m\u001b[1;33m)\u001b[0m\u001b[1;33m,\u001b[0m \u001b[0mnp\u001b[0m\u001b[1;33m.\u001b[0m\u001b[0mzeros\u001b[0m\u001b[1;33m(\u001b[0m\u001b[1;36m1000\u001b[0m\u001b[1;33m)\u001b[0m\u001b[1;33m)\u001b[0m\u001b[1;33m)\u001b[0m\u001b[1;33m\u001b[0m\u001b[1;33m\u001b[0m\u001b[0m\n\u001b[0;32m     21\u001b[0m \u001b[1;33m\u001b[0m\u001b[0m\n",
      "\u001b[1;32mc:\\Users\\micha\\anaconda3\\lib\\site-packages\\pandas\\core\\series.py\u001b[0m in \u001b[0;36m__getitem__\u001b[1;34m(self, key)\u001b[0m\n\u001b[0;32m    982\u001b[0m             \u001b[1;32mreturn\u001b[0m \u001b[0mself\u001b[0m\u001b[1;33m.\u001b[0m\u001b[0m_get_values\u001b[0m\u001b[1;33m(\u001b[0m\u001b[0mkey\u001b[0m\u001b[1;33m)\u001b[0m\u001b[1;33m\u001b[0m\u001b[1;33m\u001b[0m\u001b[0m\n\u001b[0;32m    983\u001b[0m \u001b[1;33m\u001b[0m\u001b[0m\n\u001b[1;32m--> 984\u001b[1;33m         \u001b[1;32mreturn\u001b[0m \u001b[0mself\u001b[0m\u001b[1;33m.\u001b[0m\u001b[0m_get_with\u001b[0m\u001b[1;33m(\u001b[0m\u001b[0mkey\u001b[0m\u001b[1;33m)\u001b[0m\u001b[1;33m\u001b[0m\u001b[1;33m\u001b[0m\u001b[0m\n\u001b[0m\u001b[0;32m    985\u001b[0m \u001b[1;33m\u001b[0m\u001b[0m\n\u001b[0;32m    986\u001b[0m     \u001b[1;32mdef\u001b[0m \u001b[0m_get_with\u001b[0m\u001b[1;33m(\u001b[0m\u001b[0mself\u001b[0m\u001b[1;33m,\u001b[0m \u001b[0mkey\u001b[0m\u001b[1;33m)\u001b[0m\u001b[1;33m:\u001b[0m\u001b[1;33m\u001b[0m\u001b[1;33m\u001b[0m\u001b[0m\n",
      "\u001b[1;32mc:\\Users\\micha\\anaconda3\\lib\\site-packages\\pandas\\core\\series.py\u001b[0m in \u001b[0;36m_get_with\u001b[1;34m(self, key)\u001b[0m\n\u001b[0;32m   1017\u001b[0m             \u001b[1;31m#  (i.e. self.iloc) or label-based (i.e. self.loc)\u001b[0m\u001b[1;33m\u001b[0m\u001b[1;33m\u001b[0m\u001b[0m\n\u001b[0;32m   1018\u001b[0m             \u001b[1;32mif\u001b[0m \u001b[1;32mnot\u001b[0m \u001b[0mself\u001b[0m\u001b[1;33m.\u001b[0m\u001b[0mindex\u001b[0m\u001b[1;33m.\u001b[0m\u001b[0m_should_fallback_to_positional\u001b[0m\u001b[1;33m:\u001b[0m\u001b[1;33m\u001b[0m\u001b[1;33m\u001b[0m\u001b[0m\n\u001b[1;32m-> 1019\u001b[1;33m                 \u001b[1;32mreturn\u001b[0m \u001b[0mself\u001b[0m\u001b[1;33m.\u001b[0m\u001b[0mloc\u001b[0m\u001b[1;33m[\u001b[0m\u001b[0mkey\u001b[0m\u001b[1;33m]\u001b[0m\u001b[1;33m\u001b[0m\u001b[1;33m\u001b[0m\u001b[0m\n\u001b[0m\u001b[0;32m   1020\u001b[0m             \u001b[1;32melse\u001b[0m\u001b[1;33m:\u001b[0m\u001b[1;33m\u001b[0m\u001b[1;33m\u001b[0m\u001b[0m\n\u001b[0;32m   1021\u001b[0m                 \u001b[1;32mreturn\u001b[0m \u001b[0mself\u001b[0m\u001b[1;33m.\u001b[0m\u001b[0miloc\u001b[0m\u001b[1;33m[\u001b[0m\u001b[0mkey\u001b[0m\u001b[1;33m]\u001b[0m\u001b[1;33m\u001b[0m\u001b[1;33m\u001b[0m\u001b[0m\n",
      "\u001b[1;32mc:\\Users\\micha\\anaconda3\\lib\\site-packages\\pandas\\core\\indexing.py\u001b[0m in \u001b[0;36m__getitem__\u001b[1;34m(self, key)\u001b[0m\n\u001b[0;32m    965\u001b[0m \u001b[1;33m\u001b[0m\u001b[0m\n\u001b[0;32m    966\u001b[0m             \u001b[0mmaybe_callable\u001b[0m \u001b[1;33m=\u001b[0m \u001b[0mcom\u001b[0m\u001b[1;33m.\u001b[0m\u001b[0mapply_if_callable\u001b[0m\u001b[1;33m(\u001b[0m\u001b[0mkey\u001b[0m\u001b[1;33m,\u001b[0m \u001b[0mself\u001b[0m\u001b[1;33m.\u001b[0m\u001b[0mobj\u001b[0m\u001b[1;33m)\u001b[0m\u001b[1;33m\u001b[0m\u001b[1;33m\u001b[0m\u001b[0m\n\u001b[1;32m--> 967\u001b[1;33m             \u001b[1;32mreturn\u001b[0m \u001b[0mself\u001b[0m\u001b[1;33m.\u001b[0m\u001b[0m_getitem_axis\u001b[0m\u001b[1;33m(\u001b[0m\u001b[0mmaybe_callable\u001b[0m\u001b[1;33m,\u001b[0m \u001b[0maxis\u001b[0m\u001b[1;33m=\u001b[0m\u001b[0maxis\u001b[0m\u001b[1;33m)\u001b[0m\u001b[1;33m\u001b[0m\u001b[1;33m\u001b[0m\u001b[0m\n\u001b[0m\u001b[0;32m    968\u001b[0m \u001b[1;33m\u001b[0m\u001b[0m\n\u001b[0;32m    969\u001b[0m     \u001b[1;32mdef\u001b[0m \u001b[0m_is_scalar_access\u001b[0m\u001b[1;33m(\u001b[0m\u001b[0mself\u001b[0m\u001b[1;33m,\u001b[0m \u001b[0mkey\u001b[0m\u001b[1;33m:\u001b[0m \u001b[0mtuple\u001b[0m\u001b[1;33m)\u001b[0m\u001b[1;33m:\u001b[0m\u001b[1;33m\u001b[0m\u001b[1;33m\u001b[0m\u001b[0m\n",
      "\u001b[1;32mc:\\Users\\micha\\anaconda3\\lib\\site-packages\\pandas\\core\\indexing.py\u001b[0m in \u001b[0;36m_getitem_axis\u001b[1;34m(self, key, axis)\u001b[0m\n\u001b[0;32m   1192\u001b[0m                     \u001b[1;32mraise\u001b[0m \u001b[0mValueError\u001b[0m\u001b[1;33m(\u001b[0m\u001b[1;34m\"Cannot index with multidimensional key\"\u001b[0m\u001b[1;33m)\u001b[0m\u001b[1;33m\u001b[0m\u001b[1;33m\u001b[0m\u001b[0m\n\u001b[0;32m   1193\u001b[0m \u001b[1;33m\u001b[0m\u001b[0m\n\u001b[1;32m-> 1194\u001b[1;33m                 \u001b[1;32mreturn\u001b[0m \u001b[0mself\u001b[0m\u001b[1;33m.\u001b[0m\u001b[0m_getitem_iterable\u001b[0m\u001b[1;33m(\u001b[0m\u001b[0mkey\u001b[0m\u001b[1;33m,\u001b[0m \u001b[0maxis\u001b[0m\u001b[1;33m=\u001b[0m\u001b[0maxis\u001b[0m\u001b[1;33m)\u001b[0m\u001b[1;33m\u001b[0m\u001b[1;33m\u001b[0m\u001b[0m\n\u001b[0m\u001b[0;32m   1195\u001b[0m \u001b[1;33m\u001b[0m\u001b[0m\n\u001b[0;32m   1196\u001b[0m             \u001b[1;31m# nested tuple slicing\u001b[0m\u001b[1;33m\u001b[0m\u001b[1;33m\u001b[0m\u001b[0m\n",
      "\u001b[1;32mc:\\Users\\micha\\anaconda3\\lib\\site-packages\\pandas\\core\\indexing.py\u001b[0m in \u001b[0;36m_getitem_iterable\u001b[1;34m(self, key, axis)\u001b[0m\n\u001b[0;32m   1130\u001b[0m \u001b[1;33m\u001b[0m\u001b[0m\n\u001b[0;32m   1131\u001b[0m         \u001b[1;31m# A collection of keys\u001b[0m\u001b[1;33m\u001b[0m\u001b[1;33m\u001b[0m\u001b[0m\n\u001b[1;32m-> 1132\u001b[1;33m         \u001b[0mkeyarr\u001b[0m\u001b[1;33m,\u001b[0m \u001b[0mindexer\u001b[0m \u001b[1;33m=\u001b[0m \u001b[0mself\u001b[0m\u001b[1;33m.\u001b[0m\u001b[0m_get_listlike_indexer\u001b[0m\u001b[1;33m(\u001b[0m\u001b[0mkey\u001b[0m\u001b[1;33m,\u001b[0m \u001b[0maxis\u001b[0m\u001b[1;33m)\u001b[0m\u001b[1;33m\u001b[0m\u001b[1;33m\u001b[0m\u001b[0m\n\u001b[0m\u001b[0;32m   1133\u001b[0m         return self.obj._reindex_with_indexers(\n\u001b[0;32m   1134\u001b[0m             \u001b[1;33m{\u001b[0m\u001b[0maxis\u001b[0m\u001b[1;33m:\u001b[0m \u001b[1;33m[\u001b[0m\u001b[0mkeyarr\u001b[0m\u001b[1;33m,\u001b[0m \u001b[0mindexer\u001b[0m\u001b[1;33m]\u001b[0m\u001b[1;33m}\u001b[0m\u001b[1;33m,\u001b[0m \u001b[0mcopy\u001b[0m\u001b[1;33m=\u001b[0m\u001b[1;32mTrue\u001b[0m\u001b[1;33m,\u001b[0m \u001b[0mallow_dups\u001b[0m\u001b[1;33m=\u001b[0m\u001b[1;32mTrue\u001b[0m\u001b[1;33m\u001b[0m\u001b[1;33m\u001b[0m\u001b[0m\n",
      "\u001b[1;32mc:\\Users\\micha\\anaconda3\\lib\\site-packages\\pandas\\core\\indexing.py\u001b[0m in \u001b[0;36m_get_listlike_indexer\u001b[1;34m(self, key, axis)\u001b[0m\n\u001b[0;32m   1328\u001b[0m         \u001b[0maxis_name\u001b[0m \u001b[1;33m=\u001b[0m \u001b[0mself\u001b[0m\u001b[1;33m.\u001b[0m\u001b[0mobj\u001b[0m\u001b[1;33m.\u001b[0m\u001b[0m_get_axis_name\u001b[0m\u001b[1;33m(\u001b[0m\u001b[0maxis\u001b[0m\u001b[1;33m)\u001b[0m\u001b[1;33m\u001b[0m\u001b[1;33m\u001b[0m\u001b[0m\n\u001b[0;32m   1329\u001b[0m \u001b[1;33m\u001b[0m\u001b[0m\n\u001b[1;32m-> 1330\u001b[1;33m         \u001b[0mkeyarr\u001b[0m\u001b[1;33m,\u001b[0m \u001b[0mindexer\u001b[0m \u001b[1;33m=\u001b[0m \u001b[0max\u001b[0m\u001b[1;33m.\u001b[0m\u001b[0m_get_indexer_strict\u001b[0m\u001b[1;33m(\u001b[0m\u001b[0mkey\u001b[0m\u001b[1;33m,\u001b[0m \u001b[0maxis_name\u001b[0m\u001b[1;33m)\u001b[0m\u001b[1;33m\u001b[0m\u001b[1;33m\u001b[0m\u001b[0m\n\u001b[0m\u001b[0;32m   1331\u001b[0m \u001b[1;33m\u001b[0m\u001b[0m\n\u001b[0;32m   1332\u001b[0m         \u001b[1;32mreturn\u001b[0m \u001b[0mkeyarr\u001b[0m\u001b[1;33m,\u001b[0m \u001b[0mindexer\u001b[0m\u001b[1;33m\u001b[0m\u001b[1;33m\u001b[0m\u001b[0m\n",
      "\u001b[1;32mc:\\Users\\micha\\anaconda3\\lib\\site-packages\\pandas\\core\\indexes\\base.py\u001b[0m in \u001b[0;36m_get_indexer_strict\u001b[1;34m(self, key, axis_name)\u001b[0m\n\u001b[0;32m   5794\u001b[0m             \u001b[0mkeyarr\u001b[0m\u001b[1;33m,\u001b[0m \u001b[0mindexer\u001b[0m\u001b[1;33m,\u001b[0m \u001b[0mnew_indexer\u001b[0m \u001b[1;33m=\u001b[0m \u001b[0mself\u001b[0m\u001b[1;33m.\u001b[0m\u001b[0m_reindex_non_unique\u001b[0m\u001b[1;33m(\u001b[0m\u001b[0mkeyarr\u001b[0m\u001b[1;33m)\u001b[0m\u001b[1;33m\u001b[0m\u001b[1;33m\u001b[0m\u001b[0m\n\u001b[0;32m   5795\u001b[0m \u001b[1;33m\u001b[0m\u001b[0m\n\u001b[1;32m-> 5796\u001b[1;33m         \u001b[0mself\u001b[0m\u001b[1;33m.\u001b[0m\u001b[0m_raise_if_missing\u001b[0m\u001b[1;33m(\u001b[0m\u001b[0mkeyarr\u001b[0m\u001b[1;33m,\u001b[0m \u001b[0mindexer\u001b[0m\u001b[1;33m,\u001b[0m \u001b[0maxis_name\u001b[0m\u001b[1;33m)\u001b[0m\u001b[1;33m\u001b[0m\u001b[1;33m\u001b[0m\u001b[0m\n\u001b[0m\u001b[0;32m   5797\u001b[0m \u001b[1;33m\u001b[0m\u001b[0m\n\u001b[0;32m   5798\u001b[0m         \u001b[0mkeyarr\u001b[0m \u001b[1;33m=\u001b[0m \u001b[0mself\u001b[0m\u001b[1;33m.\u001b[0m\u001b[0mtake\u001b[0m\u001b[1;33m(\u001b[0m\u001b[0mindexer\u001b[0m\u001b[1;33m)\u001b[0m\u001b[1;33m\u001b[0m\u001b[1;33m\u001b[0m\u001b[0m\n",
      "\u001b[1;32mc:\\Users\\micha\\anaconda3\\lib\\site-packages\\pandas\\core\\indexes\\base.py\u001b[0m in \u001b[0;36m_raise_if_missing\u001b[1;34m(self, key, indexer, axis_name)\u001b[0m\n\u001b[0;32m   5857\u001b[0m \u001b[1;33m\u001b[0m\u001b[0m\n\u001b[0;32m   5858\u001b[0m             \u001b[0mnot_found\u001b[0m \u001b[1;33m=\u001b[0m \u001b[0mlist\u001b[0m\u001b[1;33m(\u001b[0m\u001b[0mensure_index\u001b[0m\u001b[1;33m(\u001b[0m\u001b[0mkey\u001b[0m\u001b[1;33m)\u001b[0m\u001b[1;33m[\u001b[0m\u001b[0mmissing_mask\u001b[0m\u001b[1;33m.\u001b[0m\u001b[0mnonzero\u001b[0m\u001b[1;33m(\u001b[0m\u001b[1;33m)\u001b[0m\u001b[1;33m[\u001b[0m\u001b[1;36m0\u001b[0m\u001b[1;33m]\u001b[0m\u001b[1;33m]\u001b[0m\u001b[1;33m.\u001b[0m\u001b[0munique\u001b[0m\u001b[1;33m(\u001b[0m\u001b[1;33m)\u001b[0m\u001b[1;33m)\u001b[0m\u001b[1;33m\u001b[0m\u001b[1;33m\u001b[0m\u001b[0m\n\u001b[1;32m-> 5859\u001b[1;33m             \u001b[1;32mraise\u001b[0m \u001b[0mKeyError\u001b[0m\u001b[1;33m(\u001b[0m\u001b[1;34mf\"{not_found} not in index\"\u001b[0m\u001b[1;33m)\u001b[0m\u001b[1;33m\u001b[0m\u001b[1;33m\u001b[0m\u001b[0m\n\u001b[0m\u001b[0;32m   5860\u001b[0m \u001b[1;33m\u001b[0m\u001b[0m\n\u001b[0;32m   5861\u001b[0m     \u001b[1;33m@\u001b[0m\u001b[0moverload\u001b[0m\u001b[1;33m\u001b[0m\u001b[1;33m\u001b[0m\u001b[0m\n",
      "\u001b[1;31mKeyError\u001b[0m: '[6240, 103101, 132012, 118346, 69678, 88065, 77283, 67678, 11370, 119636, 103058, 84350, 127436, 82990, 48312, 26324, 3711, 44976, 10303, 11962, 131641, 45099, 81899, 107770, 42312, 17753, 74373, 49704, 52256, 70211, 45685, 126593, 65367, 63933, 82366, 126367, 20829, 125395, 95147, 39374, 20359, 77745, 115421, 83684, 97041, 22449, 107053, 89064, 128864, 96635, 112664, 11635, 94570, 80720, 119419, 21796, 79041, 130782, 76993, 41201, 66625, 58450, 27695, 122371, 6787, 99336, 106295, 32975, 27402, 39926, 2721, 65128, 99464, 55611, 58617, 39928, 37133, 128457, 62765, 93617, 75491, 107562, 22642, 88431, 32381, 125915, 12183, 74898, 120600, 15992, 65734, 60435, 108560, 117120, 116485, 111626, 13633, 7476, 70581, 7023, 96693, 2479, 72222, 64377, 124719, 110532, 48584, 31094, 93922, 58788, 97901, 107225, 83495, 134209, 24437, 23667, 77749, 94509, 61308, 53613, 101388, 52441, 69710, 15713, 70751, 135790, 19296, 23377, 31911, 48282, 11155, 19377, 34810, 29628, 81882, 96308, 42238, 84278, 17713, 46880, 131277, 33572, 18124, 127190, 12489, 130445, 5210, 28592, 88614, 75006, 128809, 54442, 88386, 67049, 114195, 23330, 70278, 62949, 119173, 19384, 53207, 115040, 127569, 10461, 101602, 100471, 126351, 81693, 32782, 53885, 74919, 121867, 55905, 102024, 3993, 83428, 92480, 45167, 113042, 111441, 86933, 5479, 44140, 96713, 111536, 75007, 62210, 20633, 120394, 15590, 95545, 51741, 93583, 66047, 108218, 126642, 10653, 21672, 29692, 128655, 101506, 23308, 130077, 54804, 119995, 109993, 56207, 29064, 131872, 109288, 81027, 72431, 61262, 58947, 123157, 107943, 55620, 50157, 73943, 119915, 125663, 100445, 64864, 56401, 109366, 3404, 16200, 68142, 107690, 77879, 134736, 88323, 41639, 125071, 68500, 115670, 39804, 109456, 116360, 125325, 97307, 2374, 74410, 19042, 1888, 88486, 64791, 14474, 13136, 22836, 81230, 59115, 80840, 96049, 46580, 89783, 84183, 18888, 131491, 113246, 74715, 111745, 63313, 126606, 96523, 91601, 56708, 29696, 72578, 115728, 122441, 53889, 108927, 47063, 8090, 50323, 58381, 55263, 93263, 13252, 105345, 85622, 17292, 91011, 56599, 70739, 136859, 117521, 20985, 76304, 120348, 124855, 76414, 43209, 47851, 42518, 17877, 7286, 80329, 132290, 47538, 22376, 28340, 134690, 74734, 10627, 85419, 32691, 121802, 136610, 72203, 87782, 96291, 118125, 7703, 87233, 87505, 49032, 92602, 108366, 45697, 95329, 79785, 51505, 591, 48657, 98897, 71537, 95203, 21179, 34519, 79410, 85572, 56454, 35373, 27223, 81261, 38050, 72515, 136432, 59906, 26678, 23490, 36764, 92264, 1401, 136232, 136367, 75801, 127997, 84566, 27533, 130556, 122144, 6114, 68929, 67108, 112109, 53966, 27993, 137147, 58773, 26137, 20256, 131393, 89962, 130007, 22848, 119737, 35837, 9339, 11050, 70144, 46135, 13938, 59899, 29586, 31388, 81225, 32421, 61145, 33947, 102080, 33726, 135959, 23673, 81922, 2195, 72696, 22830, 78899, 57282, 38148, 67822, 68114, 53717, 9784, 5627, 32814, 68395, 38467, 44483, 18543, 88516, 50027, 89028, 30684, 71647, 22197, 61974, 21673, 45502, 93934, 64241, 74004, 60100, 74862, 60168, 34126, 132299, 31363, 122670, 45633, 43808, 26514, 71706, 49810, 16181, 46403, 101457, 19506, 101309, 43299, 52601, 79569, 106259, 37709, 111329, 28945, 91207, 114993, 80271, 97552, 114901, 9596, 38964, 10844, 95678, 57943, 132117, 64707, 116856, 34824, 54399, 57302, 14651, 72664, 37706, 51786, 106300, 33929, 127889, 11870, 108109, 122105, 66616, 81110, 130250, 19595, 86324, 99768, 6506, 127551, 69863, 75195, 20394, 106420, 111489, 91399, 91208, 72535, 11213, 54316, 36138, 50799, 81561, 87348, 45914, 137048, 70225, 134345, 7322, 37663, 53965, 17584, 4681, 106054, 5964, 88082, 7773, 57874, 12783, 69322, 28131, 35654, 82277, 435, 42510, 20952, 106626, 22530, 102456, 126668, 122445, 117612, 115357, 6896, 47698, 77856, 47559, 14715, 32450, 53777, 96717, 124596, 132050, 40406, 83009, 18987, 38071, 76073, 137030, 44555, 47971, 1744, 134727, 121848, 14184, 71794, 10239, 36225, 114078, 127760, 93060, 40574, 13327, 107352, 49271, 9454, 78348, 3971, 14330, 69324, 83052, 129167, 97558, 14645, 97484, 70049, 46633, 87065, 93671, 20846, 10825, 9323, 9405, 40004, 119013, 114428, 12045, 85157, 92281, 31398, 77054, 53347, 126837, 122671, 76362, 49978, 97755, 27341, 85268, 10550, 117515, 108397, 73712, 7893, 70950, 32702, 15996, 91233, 830, 111734, 121951, 85437, 137808, 99613, 129486, 126453, 14242, 135650, 98973, 57520, 41957, 127303, 43683, 119353, 55573, 11174, 120117, 5815, 46554, 83167, 238, 31018, 121797, 52966, 126800, 103948, 86817, 41262, 42058, 134780, 122725, 119833, 42653, 55349, 83965, 112190, 15937, 88731, 75176, 21071, 58509, 100256, 40626, 5461, 86240, 53760, 6426, 17485, 104717, 79803, 62224, 80267, 88843, 13885, 110863, 99062, 122601, 111379] not in index'"
     ]
    }
   ],
   "source": [
    "from sklearn.w2v_selection import train_test_split\n",
    "\n",
    "def bal_split(X,y):\n",
    "    # Split the data into training and testing sets (70-30 split)\n",
    "    X_train_val, X_test, y_train_val, y_test = train_test_split(X, y, test_size=0.3, random_state=42)\n",
    "\n",
    "\n",
    "\n",
    "    # Split the remaining data into training and validation sets (50-50 split)\n",
    "    X_train, X_val, y_train, y_val = train_test_split(X_train_val, y_train_val, test_size=0.5, random_state=42)\n",
    "\n",
    "\n",
    "    # Balance the VALIDATION set\n",
    "    positive_val_indices = np.where(y_val == 1)[0]\n",
    "    negative_val_indices = np.where(y_val == 0)[0]\n",
    "    np.random.seed(42)\n",
    "    positive_val_indices = np.random.choice(positive_val_indices, size=1000, replace=False)\n",
    "    negative_val_indices = np.random.choice(negative_val_indices, size=1000, replace=False)\n",
    "    X_val_balanced = np.concatenate((X_val[positive_val_indices], X_val[negative_val_indices]), axis=0)\n",
    "    y_val_balanced = np.concatenate((np.ones(1000), np.zeros(1000)))\n",
    "\n",
    "    return X_train, X_val_balanced, X_test, y_train, y_val_balanced, y_test\n",
    "\n",
    "\n",
    "\n",
    "# Print the size and distribution of each set\n",
    "print(\"Size of training set:\", len(X_train))\n",
    "print(\"Distribution of labels in training set:\")\n",
    "print(pd.Series(y_train).value_counts())\n",
    "print()\n",
    "print(\"Size of test set:\", len(X_test))\n",
    "print(\"Distribution of labels in validation set:\")\n",
    "print(pd.Series(y_test).value_counts())\n",
    "print()\n",
    "print(\"Size of balanced val set:\", len(X_val_balanced))\n",
    "print(\"Distribution of labels in balanced test set:\")\n",
    "print(pd.Series(y_val_balanced).value_counts())\n"
   ]
  },
  {
   "attachments": {},
   "cell_type": "markdown",
   "metadata": {},
   "source": [
    "# Completely Naive BoW with Logistic Regression\n"
   ]
  },
  {
   "cell_type": "code",
   "execution_count": 74,
   "metadata": {},
   "outputs": [],
   "source": [
    "from sklearn.feature_extraction.text import CountVectorizer\n",
    "from sklearn.linear_w2v import LogisticRegression\n",
    "from sklearn.metrics import accuracy_score, precision_score, recall_score, f1_score\n",
    "from sklearn.w2v_selection import train_test_split\n",
    "from imblearn.under_sampling import RandomUnderSampler\n",
    "\n",
    "# Convert text data to bag of words representation\n",
    "vectorizer = CountVectorizer()\n",
    "X_bow = vectorizer.fit_transform(X)\n",
    "\n",
    "# Split dataset into training and testing sets\n",
    "X_train, X_test, y_train, y_test = train_test_split(X_bow, y, test_size=0.3, random_state=42)\n",
    "\n",
    "#Prediction\n",
    "lr_naive = LogisticRegression()\n",
    "lr_naive.fit(X_train, y_train)\n",
    "\n",
    "# Test the model on the testing dataset\n",
    "y_pred = lr_naive.predict(X_test)\n",
    "\n",
    "# Calculate evaluation metrics\n",
    "accuracy = accuracy_score(y_test, y_pred)\n",
    "\n",
    "#88.4% out of the box accuracy on regular data "
   ]
  },
  {
   "cell_type": "code",
   "execution_count": 76,
   "metadata": {},
   "outputs": [],
   "source": [
    "from sklearn.feature_extraction.text import CountVectorizer\n",
    "from sklearn.linear_model import LogisticRegression\n",
    "from sklearn.metrics import accuracy_score, precision_score, recall_score, f1_score\n",
    "from sklearn.model_selection import train_test_split\n",
    "from imblearn.under_sampling import RandomUnderSampler\n",
    "\n",
    "# Convert text data to bag of words representation\n",
    "vectorizer = CountVectorizer()\n",
    "X_bow = vectorizer.fit_transform(X)\n",
    "\n",
    "# Split dataset into training and testing sets\n",
    "X_train, X_test, y_train, y_test = train_test_split(X_bow, y, train_size = .7, test_size=0.01, random_state=42)\n",
    "\n",
    "# Calculate frequency of each class in the training set\n",
    "class_freq = np.unique(y_train, return_counts=True)\n",
    "\n",
    "# Split testing set into two parts, one for each class\n",
    "pos_idx = np.where(y_test == 1)[0]\n",
    "neg_idx = np.where(y_test == 0)[0]\n",
    "\n",
    "pos_test_set = X_test[pos_idx]\n",
    "neg_test_set = X_test[neg_idx]\n",
    "\n",
    "pos_test_set = pos_test_set.toarray()\n",
    "neg_test_set = neg_test_set.toarray()\n",
    "\n",
    "# Combine the two testing sets to create a balanced testing set\n",
    "min_len = min(pos_test_set.shape[0], neg_test_set.shape[0])\n",
    "\n",
    "balanced_X_test = np.concatenate((pos_test_set[:min_len], neg_test_set[:min_len]))\n",
    "balanced_y_test = np.concatenate((np.ones(min_len), np.zeros(min_len)))\n",
    "\n",
    "# Shuffle the examples in the balanced testing set\n",
    "shuffle_idx = np.random.permutation(len(balanced_y_test))\n",
    "balanced_X_test = balanced_X_test[shuffle_idx]\n",
    "balanced_y_test = balanced_y_test[shuffle_idx]\n",
    "\n",
    "# Train logistic regression model\n",
    "lr = LogisticRegression()\n",
    "lr.fit(X_train, y_train)\n",
    "\n",
    "# Test the model on the testing dataset\n",
    "y_pred = lr.predict(balanced_X_test)\n",
    "\n",
    "y_pred_naive = lr_naive.predict(balanced_X_test)\n",
    "\n",
    "# Calculate evaluation metrics\n",
    "accuracy = accuracy_score(balanced_y_test, y_pred)\n",
    "accuracy_naive = accuracy_score(balanced_y_test, y_pred_naive)\n",
    "\n",
    "\n",
    "\n",
    "#Accuracy 81% on balanced panel "
   ]
  },
  {
   "cell_type": "code",
   "execution_count": 77,
   "metadata": {},
   "outputs": [
    {
     "name": "stdout",
     "output_type": "stream",
     "text": [
      "1.0    862\n",
      "0.0    862\n",
      "dtype: int64\n",
      "Accuracy: 0.810\n",
      "Naive Accuracy: 0.804\n"
     ]
    }
   ],
   "source": [
    "print(pd.Series(balanced_y_test).value_counts())\n",
    "print(f\"Accuracy: {accuracy:.3f}\")\n",
    "print(f\"Naive Accuracy: {accuracy_naive:.3f}\")\n",
    "\n"
   ]
  },
  {
   "cell_type": "code",
   "execution_count": 69,
   "metadata": {},
   "outputs": [
    {
     "name": "stdout",
     "output_type": "stream",
     "text": [
      "Accuracy on random sample: 89.58%\n"
     ]
    }
   ],
   "source": [
    "# Split dataset into training and testing sets\n",
    "X_train, X_test, y_train, y_test = train_test_split(X_bow, y, test_size=0.3, random_state=42)\n",
    "accuracy = lr.score (X_test,y_test)\n",
    "print('Accuracy on random sample: {:.2f}%'.format(accuracy * 100))\n",
    "\n",
    "#89% accuracy on random sample "
   ]
  },
  {
   "attachments": {},
   "cell_type": "markdown",
   "metadata": {},
   "source": [
    "# With Boosting\n"
   ]
  },
  {
   "cell_type": "code",
   "execution_count": 84,
   "metadata": {},
   "outputs": [
    {
     "name": "stdout",
     "output_type": "stream",
     "text": [
      "[0]\ttest-logloss:0.58410\n",
      "[1]\ttest-logloss:0.52431\n",
      "[2]\ttest-logloss:0.48875\n",
      "[3]\ttest-logloss:0.46518\n",
      "[4]\ttest-logloss:0.44845\n",
      "[5]\ttest-logloss:0.43597\n",
      "[6]\ttest-logloss:0.42539\n",
      "[7]\ttest-logloss:0.41787\n",
      "[8]\ttest-logloss:0.41111\n",
      "[9]\ttest-logloss:0.40497\n",
      "[10]\ttest-logloss:0.39932\n",
      "[11]\ttest-logloss:0.39470\n",
      "[12]\ttest-logloss:0.38928\n",
      "[13]\ttest-logloss:0.38553\n",
      "[14]\ttest-logloss:0.38167\n",
      "[15]\ttest-logloss:0.37752\n",
      "[16]\ttest-logloss:0.37365\n",
      "[17]\ttest-logloss:0.37069\n",
      "[18]\ttest-logloss:0.36773\n",
      "[19]\ttest-logloss:0.36498\n",
      "[20]\ttest-logloss:0.36281\n",
      "[21]\ttest-logloss:0.36031\n",
      "[22]\ttest-logloss:0.35754\n",
      "[23]\ttest-logloss:0.35540\n",
      "[24]\ttest-logloss:0.35408\n",
      "[25]\ttest-logloss:0.35234\n",
      "[26]\ttest-logloss:0.35038\n",
      "[27]\ttest-logloss:0.34849\n",
      "[28]\ttest-logloss:0.34648\n",
      "[29]\ttest-logloss:0.34345\n",
      "[30]\ttest-logloss:0.34244\n",
      "[31]\ttest-logloss:0.34082\n",
      "[32]\ttest-logloss:0.33863\n",
      "[33]\ttest-logloss:0.33703\n",
      "[34]\ttest-logloss:0.33516\n",
      "[35]\ttest-logloss:0.33441\n",
      "[36]\ttest-logloss:0.33348\n",
      "[37]\ttest-logloss:0.33218\n",
      "[38]\ttest-logloss:0.33061\n",
      "[39]\ttest-logloss:0.32975\n",
      "[40]\ttest-logloss:0.32885\n",
      "[41]\ttest-logloss:0.32815\n",
      "[42]\ttest-logloss:0.32669\n",
      "[43]\ttest-logloss:0.32545\n",
      "[44]\ttest-logloss:0.32419\n",
      "[45]\ttest-logloss:0.32230\n",
      "[46]\ttest-logloss:0.32121\n",
      "[47]\ttest-logloss:0.32008\n",
      "[48]\ttest-logloss:0.31933\n",
      "[49]\ttest-logloss:0.31840\n",
      "[50]\ttest-logloss:0.31706\n",
      "[51]\ttest-logloss:0.31664\n",
      "[52]\ttest-logloss:0.31617\n",
      "[53]\ttest-logloss:0.31546\n",
      "[54]\ttest-logloss:0.31421\n",
      "[55]\ttest-logloss:0.31354\n",
      "[56]\ttest-logloss:0.31270\n",
      "[57]\ttest-logloss:0.31222\n",
      "[58]\ttest-logloss:0.31159\n",
      "[59]\ttest-logloss:0.31128\n",
      "[60]\ttest-logloss:0.31044\n",
      "[61]\ttest-logloss:0.30999\n",
      "[62]\ttest-logloss:0.30944\n",
      "[63]\ttest-logloss:0.30827\n",
      "[64]\ttest-logloss:0.30736\n",
      "[65]\ttest-logloss:0.30693\n",
      "[66]\ttest-logloss:0.30649\n",
      "[67]\ttest-logloss:0.30616\n",
      "[68]\ttest-logloss:0.30597\n",
      "[69]\ttest-logloss:0.30545\n",
      "[70]\ttest-logloss:0.30467\n",
      "[71]\ttest-logloss:0.30369\n",
      "[72]\ttest-logloss:0.30301\n",
      "[73]\ttest-logloss:0.30259\n",
      "[74]\ttest-logloss:0.30229\n",
      "[75]\ttest-logloss:0.30223\n",
      "[76]\ttest-logloss:0.30199\n",
      "[77]\ttest-logloss:0.30188\n",
      "[78]\ttest-logloss:0.30151\n",
      "[79]\ttest-logloss:0.30069\n",
      "[80]\ttest-logloss:0.30005\n",
      "[81]\ttest-logloss:0.29910\n",
      "[82]\ttest-logloss:0.29877\n",
      "[83]\ttest-logloss:0.29855\n",
      "[84]\ttest-logloss:0.29804\n",
      "[85]\ttest-logloss:0.29721\n",
      "[86]\ttest-logloss:0.29652\n",
      "[87]\ttest-logloss:0.29600\n",
      "[88]\ttest-logloss:0.29578\n",
      "[89]\ttest-logloss:0.29525\n",
      "[90]\ttest-logloss:0.29459\n",
      "[91]\ttest-logloss:0.29382\n",
      "[92]\ttest-logloss:0.29341\n",
      "[93]\ttest-logloss:0.29312\n",
      "[94]\ttest-logloss:0.29239\n",
      "[95]\ttest-logloss:0.29204\n",
      "[96]\ttest-logloss:0.29158\n",
      "[97]\ttest-logloss:0.29160\n",
      "[98]\ttest-logloss:0.29166\n",
      "[99]\ttest-logloss:0.29120\n",
      "[100]\ttest-logloss:0.29090\n",
      "[101]\ttest-logloss:0.29058\n",
      "[102]\ttest-logloss:0.28972\n",
      "[103]\ttest-logloss:0.28957\n",
      "[104]\ttest-logloss:0.28980\n",
      "[105]\ttest-logloss:0.28972\n",
      "[106]\ttest-logloss:0.28954\n",
      "[107]\ttest-logloss:0.28926\n",
      "[108]\ttest-logloss:0.28909\n",
      "[109]\ttest-logloss:0.28918\n",
      "[110]\ttest-logloss:0.28862\n",
      "[111]\ttest-logloss:0.28799\n",
      "[112]\ttest-logloss:0.28761\n",
      "[113]\ttest-logloss:0.28734\n",
      "[114]\ttest-logloss:0.28697\n",
      "[115]\ttest-logloss:0.28686\n",
      "[116]\ttest-logloss:0.28668\n",
      "[117]\ttest-logloss:0.28645\n",
      "[118]\ttest-logloss:0.28610\n",
      "[119]\ttest-logloss:0.28571\n",
      "[120]\ttest-logloss:0.28560\n",
      "[121]\ttest-logloss:0.28539\n",
      "[122]\ttest-logloss:0.28520\n",
      "[123]\ttest-logloss:0.28492\n",
      "[124]\ttest-logloss:0.28484\n",
      "[125]\ttest-logloss:0.28449\n",
      "[126]\ttest-logloss:0.28395\n",
      "[127]\ttest-logloss:0.28394\n",
      "[128]\ttest-logloss:0.28339\n",
      "[129]\ttest-logloss:0.28319\n",
      "[130]\ttest-logloss:0.28283\n",
      "[131]\ttest-logloss:0.28250\n",
      "[132]\ttest-logloss:0.28210\n",
      "[133]\ttest-logloss:0.28176\n",
      "[134]\ttest-logloss:0.28178\n",
      "[135]\ttest-logloss:0.28194\n",
      "[136]\ttest-logloss:0.28166\n",
      "[137]\ttest-logloss:0.28161\n",
      "[138]\ttest-logloss:0.28142\n",
      "[139]\ttest-logloss:0.28105\n",
      "[140]\ttest-logloss:0.28072\n",
      "[141]\ttest-logloss:0.28060\n",
      "[142]\ttest-logloss:0.28040\n",
      "[143]\ttest-logloss:0.28042\n",
      "[144]\ttest-logloss:0.28024\n",
      "[145]\ttest-logloss:0.28009\n",
      "[146]\ttest-logloss:0.28001\n",
      "[147]\ttest-logloss:0.27979\n",
      "[148]\ttest-logloss:0.27975\n",
      "[149]\ttest-logloss:0.27947\n",
      "[150]\ttest-logloss:0.27901\n",
      "[151]\ttest-logloss:0.27853\n",
      "[152]\ttest-logloss:0.27830\n",
      "[153]\ttest-logloss:0.27823\n",
      "[154]\ttest-logloss:0.27796\n",
      "[155]\ttest-logloss:0.27780\n",
      "[156]\ttest-logloss:0.27753\n",
      "[157]\ttest-logloss:0.27757\n",
      "[158]\ttest-logloss:0.27753\n",
      "[159]\ttest-logloss:0.27702\n",
      "[160]\ttest-logloss:0.27679\n",
      "[161]\ttest-logloss:0.27678\n",
      "[162]\ttest-logloss:0.27666\n",
      "[163]\ttest-logloss:0.27668\n",
      "[164]\ttest-logloss:0.27657\n",
      "[165]\ttest-logloss:0.27650\n",
      "[166]\ttest-logloss:0.27618\n",
      "[167]\ttest-logloss:0.27586\n",
      "[168]\ttest-logloss:0.27575\n",
      "[169]\ttest-logloss:0.27547\n",
      "[170]\ttest-logloss:0.27532\n",
      "[171]\ttest-logloss:0.27523\n",
      "[172]\ttest-logloss:0.27523\n",
      "[173]\ttest-logloss:0.27494\n",
      "[174]\ttest-logloss:0.27496\n",
      "[175]\ttest-logloss:0.27499\n",
      "[176]\ttest-logloss:0.27497\n",
      "[177]\ttest-logloss:0.27486\n",
      "[178]\ttest-logloss:0.27469\n",
      "[179]\ttest-logloss:0.27475\n",
      "[180]\ttest-logloss:0.27442\n",
      "[181]\ttest-logloss:0.27424\n",
      "[182]\ttest-logloss:0.27402\n",
      "[183]\ttest-logloss:0.27404\n",
      "[184]\ttest-logloss:0.27392\n",
      "[185]\ttest-logloss:0.27341\n",
      "[186]\ttest-logloss:0.27349\n",
      "[187]\ttest-logloss:0.27346\n",
      "[188]\ttest-logloss:0.27343\n",
      "[189]\ttest-logloss:0.27349\n",
      "[190]\ttest-logloss:0.27333\n",
      "[191]\ttest-logloss:0.27285\n",
      "[192]\ttest-logloss:0.27297\n",
      "[193]\ttest-logloss:0.27289\n",
      "[194]\ttest-logloss:0.27243\n",
      "[195]\ttest-logloss:0.27222\n",
      "[196]\ttest-logloss:0.27212\n",
      "[197]\ttest-logloss:0.27199\n",
      "[198]\ttest-logloss:0.27202\n",
      "[199]\ttest-logloss:0.27176\n",
      "[200]\ttest-logloss:0.27183\n",
      "[201]\ttest-logloss:0.27177\n",
      "[202]\ttest-logloss:0.27178\n",
      "[203]\ttest-logloss:0.27181\n",
      "[204]\ttest-logloss:0.27166\n",
      "[205]\ttest-logloss:0.27167\n",
      "[206]\ttest-logloss:0.27177\n",
      "[207]\ttest-logloss:0.27134\n",
      "[208]\ttest-logloss:0.27128\n",
      "[209]\ttest-logloss:0.27099\n",
      "[210]\ttest-logloss:0.27102\n",
      "[211]\ttest-logloss:0.27106\n",
      "[212]\ttest-logloss:0.27044\n",
      "[213]\ttest-logloss:0.27031\n",
      "[214]\ttest-logloss:0.27022\n",
      "[215]\ttest-logloss:0.27025\n",
      "[216]\ttest-logloss:0.27046\n",
      "[217]\ttest-logloss:0.27040\n",
      "[218]\ttest-logloss:0.27016\n",
      "[219]\ttest-logloss:0.26996\n",
      "[220]\ttest-logloss:0.26964\n",
      "[221]\ttest-logloss:0.26956\n",
      "[222]\ttest-logloss:0.26966\n",
      "[223]\ttest-logloss:0.26945\n",
      "[224]\ttest-logloss:0.26941\n",
      "[225]\ttest-logloss:0.26923\n",
      "[226]\ttest-logloss:0.26910\n",
      "[227]\ttest-logloss:0.26888\n",
      "[228]\ttest-logloss:0.26873\n",
      "[229]\ttest-logloss:0.26875\n",
      "[230]\ttest-logloss:0.26882\n",
      "[231]\ttest-logloss:0.26873\n",
      "[232]\ttest-logloss:0.26840\n",
      "[233]\ttest-logloss:0.26825\n",
      "[234]\ttest-logloss:0.26802\n",
      "[235]\ttest-logloss:0.26778\n",
      "[236]\ttest-logloss:0.26793\n",
      "[237]\ttest-logloss:0.26769\n",
      "[238]\ttest-logloss:0.26778\n",
      "[239]\ttest-logloss:0.26775\n",
      "[240]\ttest-logloss:0.26764\n",
      "[241]\ttest-logloss:0.26764\n",
      "[242]\ttest-logloss:0.26750\n",
      "[243]\ttest-logloss:0.26745\n",
      "[244]\ttest-logloss:0.26741\n",
      "[245]\ttest-logloss:0.26740\n",
      "[246]\ttest-logloss:0.26743\n",
      "[247]\ttest-logloss:0.26744\n",
      "[248]\ttest-logloss:0.26754\n",
      "[249]\ttest-logloss:0.26753\n",
      "[250]\ttest-logloss:0.26755\n",
      "[251]\ttest-logloss:0.26752\n",
      "[252]\ttest-logloss:0.26761\n",
      "[253]\ttest-logloss:0.26752\n",
      "[254]\ttest-logloss:0.26758\n",
      "[255]\ttest-logloss:0.26757\n",
      "Accuracy on entire thing: 0.8895939086294417\n",
      "Accuracy on balanced part: 0.5\n"
     ]
    }
   ],
   "source": [
    "import xgboost as xgb\n",
    "from xgboost import XGBClassifier\n",
    "\n",
    "# Train a logistic regression model using XGBoost\n",
    "dtrain = xgb.DMatrix(X_train, label=y_train)\n",
    "dtest = xgb.DMatrix(X_test, label=y_test)\n",
    "\n",
    "params = {'objective': 'binary:logistic'}\n",
    "xgb_bow = xgb.train(params, dtrain, num_boost_round=1000, early_stopping_rounds=10, evals=[(dtest, 'test')])\n",
    "\n",
    "# Make predictions on test set\n",
    "y_pred = xgb_bow.predict(dtest)\n",
    "\n",
    "# Evaluate performance\n",
    "from sklearn.metrics import accuracy_score\n",
    "print('Accuracy on entire thing:', accuracy_score(y_test, y_pred.round()))\n",
    "\n",
    "dbalance = xgb.DMatrix(balanced_X_test,label = balanced_y_test)\n",
    "\n",
    "# Predict on the balanced test set\n",
    "y_pred_balanced = xgb_bow.predict(dbalance)\n",
    "\n",
    "# Evaluate the predictions\n",
    "print('Accuracy on balanced part:', accuracy_score(balanced_y_test, y_pred_balanced.round()))\n"
   ]
  },
  {
   "cell_type": "code",
   "execution_count": 88,
   "metadata": {},
   "outputs": [
    {
     "data": {
      "text/plain": [
       "0          i have bought sever of the vital can dog food...\n",
       "1          product arriv label as jumbo salt peanut the ...\n",
       "2          this is a confect that has been around a few ...\n",
       "3          if you are look for the secret ingredi in rob...\n",
       "4          great taffi at a great price there was a wide...\n",
       "                                ...                        \n",
       "393912     great for sesam chicken this is a good if not...\n",
       "393913     im disappoint with the flavor the chocol note...\n",
       "393914     these star are small so you can give 10-15 of...\n",
       "393915     these are the best treat for train and reward...\n",
       "393916     i am veri satisfi product is as advertis i us...\n",
       "Name: Text, Length: 393917, dtype: object"
      ]
     },
     "execution_count": 88,
     "metadata": {},
     "output_type": "execute_result"
    }
   ],
   "source": [
    "X"
   ]
  },
  {
   "cell_type": "code",
   "execution_count": null,
   "metadata": {},
   "outputs": [],
   "source": [
    "from xgboost import XGBClassifier\n",
    "from sklearn.model_selection import GridSearchCV\n",
    "\n",
    "X_trainval, X_test, y_trainval, y_test = train_test_split(X_bow, y, test_size=0.2, random_state=42, stratify=y)\n",
    "X_train, X_val, y_train, y_val = train_test_split(X_trainval, y_trainval, test_size=0.1, random_state=42, stratify=y_trainval)\n",
    "\n",
    "# Define a grid of hyperparameters to search over\n",
    "param_grid = {\n",
    "    'learning_rate': [0.1],\n",
    "    'max_depth': [5, 7],\n",
    "    'n_estimators': [200],\n",
    "    'subsample': [0.5, 0.75, 1.0],\n",
    "    'colsample_bytree': [0.5, 0.75, 1.0],\n",
    "    'gamma': [0, 0.1],\n",
    "    \n",
    "}\n",
    "\n",
    "# Create an XGBoost classifier object\n",
    "xgb = XGBClassifier(objective='binary:logistic', use_label_encoder=False)\n",
    "\n",
    "# Perform grid search using cross-validation on the training set\n",
    "grid_search = GridSearchCV(xgb, param_grid, cv=2, verbose = 2)\n",
    "grid_search.fit(X_train, y_train)\n",
    "\n",
    "for i in range(len(grid_search.cv_results_['params'])):\n",
    "    print(\"Params:\", grid_search.cv_results_['params'][i])\n",
    "    print(\"Mean test score:\", grid_search.cv_results_['mean_test_score'][i])\n",
    "    print(\"Standard deviation of test score:\", grid_search.cv_results_['std_test_score'][i])\n",
    "    print(\"----------------------------\")\n",
    "\n",
    "# Evaluate the best hyperparameters on the validation set\n",
    "best_xgb_bow = grid_search.best_estimator_\n",
    "y_val_pred = best_xgb_bow.predict(X_val)\n",
    "val_acc = accuracy_score(y_val, y_val_pred)\n",
    "\n",
    "# Test the final model on the test set\n",
    "y_test_pred = best_xgb_bow.predict(X_test)\n",
    "test_acc = accuracy_score(y_test, y_test_pred)\n",
    "\n",
    "# Print the best hyperparameters and their score\n",
    "print(\"Best parameters:\", grid_search.best_params_)\n",
    "print(\"Best score:\", grid_search.best_score_)\n",
    "\n",
    "#Best parameters: {'colsample_bytree': 1.0, 'gamma': 0, 'learning_rate': 0.1, 'max_depth': 7, 'n_estimators': 200, 'subsample': 0.5}\n",
    "#Best score: 0.8714412165183674\n"
   ]
  },
  {
   "cell_type": "code",
   "execution_count": null,
   "metadata": {},
   "outputs": [],
   "source": [
    "best_params = {'objective': 'binary:logistic', 'colsample_bytree': 1.0, 'gamma': 0, 'learning_rate': 0.1, 'max_depth': 7, 'n_estimators': 200, 'subsample': 0.5}\n",
    "best_xgb_bow = xgb.train(best_params, dtrain, num_boost_round=1000, early_stopping_rounds=10, evals=[(dtest, 'test')])\n",
    "\n",
    "# Make predictions on test set\n",
    "y_pred = best_xgb_bow.predict(dtest)\n",
    "\n",
    "\n"
   ]
  },
  {
   "cell_type": "code",
   "execution_count": 98,
   "metadata": {},
   "outputs": [
    {
     "name": "stdout",
     "output_type": "stream",
     "text": [
      "Accuracy on entire thing: 0.8923857868020305\n",
      "Accuracy on balanced part: 0.5\n"
     ]
    }
   ],
   "source": [
    "# Split dataset into training and testing sets\n",
    "X_train, X_test, y_train, y_test = train_test_split(X_bow, y, train_size = .7, test_size=0.01, random_state=42)\n",
    "\n",
    "# Calculate frequency of each class in the training set\n",
    "class_freq = np.unique(y_train, return_counts=True)\n",
    "\n",
    "# Split testing set into two parts, one for each class\n",
    "pos_idx = np.where(y_test == 1)[0]\n",
    "neg_idx = np.where(y_test == 0)[0]\n",
    "\n",
    "pos_test_set = X_test[pos_idx]\n",
    "neg_test_set = X_test[neg_idx]\n",
    "\n",
    "pos_test_set = pos_test_set.toarray()\n",
    "neg_test_set = neg_test_set.toarray()\n",
    "\n",
    "# Combine the two testing sets to create a balanced testing set\n",
    "min_len = min(pos_test_set.shape[0], neg_test_set.shape[0])\n",
    "\n",
    "balanced_X_test = np.concatenate((pos_test_set[:min_len], neg_test_set[:min_len]))\n",
    "balanced_y_test = np.concatenate((np.ones(min_len), np.zeros(min_len)))\n",
    "\n",
    "# Shuffle the examples in the balanced testing set\n",
    "shuffle_idx = np.random.permutation(len(balanced_y_test))\n",
    "balanced_X_test = balanced_X_test[shuffle_idx]\n",
    "balanced_y_test = balanced_y_test[shuffle_idx]\n",
    "\n",
    "dtrain = xgb.DMatrix(X_train, label=y_train)\n",
    "dtest = xgb.DMatrix(X_test, label=y_test)\n",
    "\n",
    "# Evaluate performance\n",
    "from sklearn.metrics import accuracy_score\n",
    "print('Accuracy on entire thing:', accuracy_score(y_test, y_pred.round()))\n",
    "\n",
    "dbalance = xgb.DMatrix(balanced_X_test,label = balanced_y_test)\n",
    "\n",
    "# Predict on the balanced test set\n",
    "y_pred_balanced = xgb_bow.predict(dbalance)\n",
    "\n",
    "# Evaluate the predictions\n",
    "print('Accuracy on balanced part:', accuracy_score(balanced_y_test, y_pred_balanced.round()))\n",
    "\n",
    "#up to 89.2% on the entire thing, but just 50% on the balanced? I'm so confused"
   ]
  },
  {
   "attachments": {},
   "cell_type": "markdown",
   "metadata": {},
   "source": [
    "# TF-IDF with BOOSTING\n"
   ]
  },
  {
   "cell_type": "code",
   "execution_count": 25,
   "metadata": {},
   "outputs": [
    {
     "data": {
      "text/plain": [
       "(393917, 1000)"
      ]
     },
     "execution_count": 25,
     "metadata": {},
     "output_type": "execute_result"
    }
   ],
   "source": [
    "from sklearn.feature_extraction.text import TfidfVectorizer\n",
    "\n",
    "final_tf = cleaned_data['Text']\n",
    "tf_idf = TfidfVectorizer(max_features=1000)\n",
    "tf_data = tf_idf.fit_transform(final_tf)\n",
    "tf_data.shape"
   ]
  },
  {
   "cell_type": "code",
   "execution_count": 26,
   "metadata": {},
   "outputs": [],
   "source": [
    "temp = tf_data.toarray() # turning sparse matrix into dense matrix"
   ]
  },
  {
   "attachments": {},
   "cell_type": "markdown",
   "metadata": {},
   "source": [
    "Initial Run"
   ]
  },
  {
   "cell_type": "code",
   "execution_count": 10,
   "metadata": {},
   "outputs": [
    {
     "name": "stdout",
     "output_type": "stream",
     "text": [
      "Accuracy: 74.83%\n"
     ]
    }
   ],
   "source": [
    "from sklearn.model_selection import train_test_split\n",
    "import xgboost as xgb\n",
    "\n",
    "\n",
    "# Split dataset into training and testing sets\n",
    "X_train, X_test, y_train, y_test = train_test_split(temp, y, train_size = .7, test_size=0.01, random_state=42)\n",
    "\n",
    "# Calculate frequency of each class in the training set\n",
    "class_freq = np.unique(y_train, return_counts=True)\n",
    "\n",
    "# Split testing set into two parts, one for each class\n",
    "pos_idx = np.where(y_test == 1)[0]\n",
    "neg_idx = np.where(y_test == 0)[0]\n",
    "\n",
    "pos_test_set = X_test[pos_idx]\n",
    "neg_test_set = X_test[neg_idx]\n",
    "\n",
    "# Combine the two testing sets to create a balanced testing set\n",
    "min_len = min(pos_test_set.shape[0], neg_test_set.shape[0])\n",
    "\n",
    "balanced_X_test = np.concatenate((pos_test_set[:min_len], neg_test_set[:min_len]))\n",
    "balanced_y_test = np.concatenate((np.ones(min_len), np.zeros(min_len)))\n",
    "\n",
    "# Shuffle the examples in the balanced testing set\n",
    "shuffle_idx = np.random.permutation(len(balanced_y_test))\n",
    "balanced_X_test = balanced_X_test[shuffle_idx]\n",
    "balanced_y_test = balanced_y_test[shuffle_idx]\n",
    "\n",
    "# Define XGBoost classifier\n",
    "xgb_clf = xgb.XGBClassifier()\n",
    "\n",
    "# Train XGBoost classifier on training data\n",
    "xgb_clf.fit(X_train, y_train)\n",
    "\n",
    "# Evaluate XGBoost classifier on test data\n",
    "accuracy = xgb_clf.score(balanced_X_test, balanced_y_test)\n",
    "print('Accuracy: {:.2f}%'.format(accuracy * 100))\n",
    "\n",
    "#accuracy 74.83% on the initial run for a balanced panel \n"
   ]
  },
  {
   "cell_type": "code",
   "execution_count": 38,
   "metadata": {},
   "outputs": [
    {
     "name": "stdout",
     "output_type": "stream",
     "text": [
      "Accuracy on random sample: 89.11%\n"
     ]
    }
   ],
   "source": [
    "# Split dataset into training and testing sets\n",
    "X_train, X_test, y_train, y_test = train_test_split(temp, y, test_size=0.3, random_state=42)\n",
    "accuracy = xgb_clf.score (X_test,y_test)\n",
    "print('Accuracy on random sample: {:.2f}%'.format(accuracy * 100))\n",
    "\n",
    "#89% accuracy on random sample "
   ]
  },
  {
   "attachments": {},
   "cell_type": "markdown",
   "metadata": {},
   "source": [
    "With Parameter Tuning"
   ]
  },
  {
   "cell_type": "code",
   "execution_count": null,
   "metadata": {},
   "outputs": [],
   "source": [
    "from sklearn.model_selection import train_test_split\n",
    "\n",
    "X_trainval, X_test, y_trainval, y_test = train_test_split(temp, y, test_size=0.2, random_state=42, stratify=y)\n",
    "X_train, X_val, y_train, y_val = train_test_split(X_trainval, y_trainval, test_size=0.1, random_state=42, stratify=y_trainval)\n",
    "\n",
    "# Define a grid of hyperparameters to search over\n",
    "param_grid = {\n",
    "    #'learning_rate': [0.1, 0.01, 0.001],\n",
    "    'max_depth': [3, 5, 7],\n",
    "    'n_estimators': [50, 100, 200],\n",
    "    #'subsample': [0.5, 0.75, 1.0],\n",
    "    'colsample_bytree': [0.5, 0.75, 1.0],\n",
    "    #'gamma': [0, 0.1, 0.2],\n",
    "    #'reg_alpha': [0, 0.1, 0.5],\n",
    "    #'reg_lambda': [0, 0.1, 0.5]\n",
    "}\n",
    "\n",
    "# Create an XGBoost classifier object\n",
    "xgb = XGBClassifier(objective='binary:logistic', use_label_encoder=False)\n",
    "\n",
    "# Perform grid search using cross-validation on the training set\n",
    "grid_search = GridSearchCV(xgb, param_grid, cv=2)\n",
    "grid_search.fit(X_train, y_train)\n",
    "\n",
    "# Evaluate the best hyperparameters on the validation set\n",
    "best_xgb = grid_search.best_estimator_\n",
    "y_val_pred = best_xgb.predict(X_val)\n",
    "val_acc = best_xgb.score(y_val, y_val_pred)\n",
    "\n",
    "# Test the final model on the test set\n",
    "y_test_pred = best_xgb.predict(X_test)\n",
    "test_acc = best_xgb.score(y_test, y_test_pred)\n",
    "\n",
    "# Print the best hyperparameters and their score\n",
    "print(\"Best parameters:\", grid_search.best_params_)\n",
    "print(\"Best score:\", grid_search.best_score_)\n",
    "\n",
    "#87.4% accuracy w 0.75 colsample by tree, max depth o f7 and 200 estimators, subsample 1, gamma 0, alpha 0, lambda 1\n",
    "#takes an entire hour \n"
   ]
  },
  {
   "cell_type": "code",
   "execution_count": 18,
   "metadata": {},
   "outputs": [
    {
     "name": "stdout",
     "output_type": "stream",
     "text": [
      "Best parameters: {'colsample_bytree': 0.75, 'max_depth': 7, 'n_estimators': 200}\n",
      "Best score: 0.8739259391682477\n"
     ]
    }
   ],
   "source": [
    "# Evaluate the best hyperparameters on the validation set\n",
    "best_xgb = grid_search.best_estimator_\n",
    "y_val_pred = best_xgb.predict(X_val)\n",
    "val_acc = best_xgb.score(y_val, y_val_pred)\n",
    "\n",
    "# Test the final model on the test set\n",
    "y_test_pred = best_xgb.predict(X_test)\n",
    "test_acc = best_xgb.score(y_test, y_test_pred)\n",
    "\n",
    "# Print the best hyperparameters and their score\n",
    "print(\"Best parameters:\", grid_search.best_params_)\n",
    "print(\"Best score:\", grid_search.best_score_)"
   ]
  },
  {
   "cell_type": "code",
   "execution_count": 37,
   "metadata": {},
   "outputs": [
    {
     "name": "stdout",
     "output_type": "stream",
     "text": [
      "0.8387470997679815\n"
     ]
    }
   ],
   "source": [
    "# Split dataset into training and testing sets\n",
    "X_train, X_test, y_train, y_test = train_test_split(temp, y, train_size = .7, test_size=0.01, random_state=42)\n",
    "\n",
    "# Calculate frequency of each class in the training set\n",
    "class_freq = np.unique(y_train, return_counts=True)\n",
    "\n",
    "# Split testing set into two parts, one for each class\n",
    "pos_idx = np.where(y_test == 1)[0]\n",
    "neg_idx = np.where(y_test == 0)[0]\n",
    "\n",
    "pos_test_set = X_test[pos_idx]\n",
    "neg_test_set = X_test[neg_idx]\n",
    "\n",
    "# Combine the two testing sets to create a balanced testing set\n",
    "min_len = min(pos_test_set.shape[0], neg_test_set.shape[0])\n",
    "\n",
    "balanced_X_test = np.concatenate((pos_test_set[:min_len], neg_test_set[:min_len]))\n",
    "balanced_y_test = np.concatenate((np.ones(min_len), np.zeros(min_len)))\n",
    "\n",
    "# Shuffle the examples in the balanced testing set\n",
    "shuffle_idx = np.random.permutation(len(balanced_y_test))\n",
    "balanced_X_test = balanced_X_test[shuffle_idx]\n",
    "balanced_y_test = balanced_y_test[shuffle_idx]\n",
    "\n",
    "# Test the model on the testing dataset\n",
    "y_pred = best_xgb.predict(balanced_X_test)\n",
    "\n",
    "# Calculate evaluation metrics\n",
    "accuracy = np.mean(y_pred == balanced_y_test)\n",
    "\n",
    "print(accuracy)\n",
    "\n",
    "#83.8% on balanced "
   ]
  },
  {
   "cell_type": "code",
   "execution_count": 39,
   "metadata": {},
   "outputs": [
    {
     "name": "stdout",
     "output_type": "stream",
     "text": [
      "Accuracy on random sample: 91.19%\n"
     ]
    }
   ],
   "source": [
    "# Split dataset into training and testing sets\n",
    "X_train, X_test, y_train, y_test = train_test_split(temp, y, test_size=0.3, random_state=42)\n",
    "accuracy = best_xgb.score (X_test,y_test)\n",
    "print('Accuracy on random sample: {:.2f}%'.format(accuracy * 100))\n",
    "\n",
    "#91.19% accuracy on random sample "
   ]
  },
  {
   "cell_type": "code",
   "execution_count": 65,
   "metadata": {},
   "outputs": [
    {
     "name": "stdout",
     "output_type": "stream",
     "text": [
      "0 Time taken: 0.0\n",
      "[' i do not know']\n",
      "<class 'numpy.ndarray'>\n",
      "Probability of a positive review is 0.2703675627708435\n"
     ]
    }
   ],
   "source": [
    "sentence = [\"I do not know\"]\n",
    "clean_sentence = clean_data(sentence)\n",
    "print(clean_sentence)\n",
    "sparse = tf_idf.transform(clean_sentence)\n",
    "\n",
    "sparse = sparse.toarray()\n",
    "\n",
    "prob = best_xgb.predict_proba(sparse)\n",
    "print(type(prob))\n",
    "print(f'Probability of a positive review is {prob[0][1]}')"
   ]
  },
  {
   "attachments": {},
   "cell_type": "markdown",
   "metadata": {},
   "source": [
    "# W2V"
   ]
  },
  {
   "cell_type": "code",
   "execution_count": 93,
   "metadata": {},
   "outputs": [],
   "source": [
    "import pandas as pd\n",
    "import numpy as np\n",
    "import gensim\n",
    "import xgboost as xgb\n",
    "from sklearn.model_selection import train_test_split"
   ]
  },
  {
   "cell_type": "code",
   "execution_count": 160,
   "metadata": {},
   "outputs": [
    {
     "name": "stdout",
     "output_type": "stream",
     "text": [
      "Fitting 2 folds for each of 27 candidates, totalling 54 fits\n",
      "[CV] END colsample_bytree=0.5, learning_rate=0.1, max_depth=7, n_estimators=200, subsample=0.5; total time= 1.3min\n",
      "[CV] END colsample_bytree=0.5, learning_rate=0.1, max_depth=7, n_estimators=200, subsample=0.5; total time= 1.4min\n",
      "[CV] END colsample_bytree=0.5, learning_rate=0.1, max_depth=7, n_estimators=200, subsample=0.75; total time= 1.7min\n",
      "[CV] END colsample_bytree=0.5, learning_rate=0.1, max_depth=7, n_estimators=200, subsample=0.75; total time= 1.7min\n",
      "[CV] END colsample_bytree=0.5, learning_rate=0.1, max_depth=7, n_estimators=200, subsample=1.0; total time= 2.0min\n",
      "[CV] END colsample_bytree=0.5, learning_rate=0.1, max_depth=7, n_estimators=200, subsample=1.0; total time= 2.0min\n",
      "[CV] END colsample_bytree=0.5, learning_rate=0.2, max_depth=7, n_estimators=200, subsample=0.5; total time= 1.4min\n",
      "[CV] END colsample_bytree=0.5, learning_rate=0.2, max_depth=7, n_estimators=200, subsample=0.5; total time= 1.4min\n",
      "[CV] END colsample_bytree=0.5, learning_rate=0.2, max_depth=7, n_estimators=200, subsample=0.75; total time= 1.7min\n",
      "[CV] END colsample_bytree=0.5, learning_rate=0.2, max_depth=7, n_estimators=200, subsample=0.75; total time= 1.7min\n",
      "[CV] END colsample_bytree=0.5, learning_rate=0.2, max_depth=7, n_estimators=200, subsample=1.0; total time= 1.9min\n",
      "[CV] END colsample_bytree=0.5, learning_rate=0.2, max_depth=7, n_estimators=200, subsample=1.0; total time= 1.9min\n",
      "[CV] END colsample_bytree=0.5, learning_rate=0.3, max_depth=7, n_estimators=200, subsample=0.5; total time= 1.4min\n",
      "[CV] END colsample_bytree=0.5, learning_rate=0.3, max_depth=7, n_estimators=200, subsample=0.5; total time= 1.4min\n",
      "[CV] END colsample_bytree=0.5, learning_rate=0.3, max_depth=7, n_estimators=200, subsample=0.75; total time= 1.7min\n",
      "[CV] END colsample_bytree=0.5, learning_rate=0.3, max_depth=7, n_estimators=200, subsample=0.75; total time= 1.7min\n",
      "[CV] END colsample_bytree=0.5, learning_rate=0.3, max_depth=7, n_estimators=200, subsample=1.0; total time= 2.0min\n",
      "[CV] END colsample_bytree=0.5, learning_rate=0.3, max_depth=7, n_estimators=200, subsample=1.0; total time= 2.0min\n",
      "[CV] END colsample_bytree=0.75, learning_rate=0.1, max_depth=7, n_estimators=200, subsample=0.5; total time= 2.0min\n",
      "[CV] END colsample_bytree=0.75, learning_rate=0.1, max_depth=7, n_estimators=200, subsample=0.5; total time= 2.0min\n",
      "[CV] END colsample_bytree=0.75, learning_rate=0.1, max_depth=7, n_estimators=200, subsample=0.75; total time= 2.4min\n",
      "[CV] END colsample_bytree=0.75, learning_rate=0.1, max_depth=7, n_estimators=200, subsample=0.75; total time= 2.4min\n",
      "[CV] END colsample_bytree=0.75, learning_rate=0.1, max_depth=7, n_estimators=200, subsample=1.0; total time= 2.8min\n",
      "[CV] END colsample_bytree=0.75, learning_rate=0.1, max_depth=7, n_estimators=200, subsample=1.0; total time= 2.8min\n",
      "[CV] END colsample_bytree=0.75, learning_rate=0.2, max_depth=7, n_estimators=200, subsample=0.5; total time= 1.9min\n",
      "[CV] END colsample_bytree=0.75, learning_rate=0.2, max_depth=7, n_estimators=200, subsample=0.5; total time= 2.0min\n",
      "[CV] END colsample_bytree=0.75, learning_rate=0.2, max_depth=7, n_estimators=200, subsample=0.75; total time= 2.4min\n",
      "[CV] END colsample_bytree=0.75, learning_rate=0.2, max_depth=7, n_estimators=200, subsample=0.75; total time= 2.4min\n",
      "[CV] END colsample_bytree=0.75, learning_rate=0.2, max_depth=7, n_estimators=200, subsample=1.0; total time= 2.8min\n",
      "[CV] END colsample_bytree=0.75, learning_rate=0.2, max_depth=7, n_estimators=200, subsample=1.0; total time= 2.8min\n",
      "[CV] END colsample_bytree=0.75, learning_rate=0.3, max_depth=7, n_estimators=200, subsample=0.5; total time= 2.0min\n",
      "[CV] END colsample_bytree=0.75, learning_rate=0.3, max_depth=7, n_estimators=200, subsample=0.5; total time= 2.0min\n",
      "[CV] END colsample_bytree=0.75, learning_rate=0.3, max_depth=7, n_estimators=200, subsample=0.75; total time= 2.4min\n",
      "[CV] END colsample_bytree=0.75, learning_rate=0.3, max_depth=7, n_estimators=200, subsample=0.75; total time= 2.4min\n",
      "[CV] END colsample_bytree=0.75, learning_rate=0.3, max_depth=7, n_estimators=200, subsample=1.0; total time= 2.7min\n",
      "[CV] END colsample_bytree=0.75, learning_rate=0.3, max_depth=7, n_estimators=200, subsample=1.0; total time= 2.7min\n",
      "[CV] END colsample_bytree=1.0, learning_rate=0.1, max_depth=7, n_estimators=200, subsample=0.5; total time= 2.5min\n",
      "[CV] END colsample_bytree=1.0, learning_rate=0.1, max_depth=7, n_estimators=200, subsample=0.5; total time= 2.5min\n",
      "[CV] END colsample_bytree=1.0, learning_rate=0.1, max_depth=7, n_estimators=200, subsample=0.75; total time= 3.2min\n",
      "[CV] END colsample_bytree=1.0, learning_rate=0.1, max_depth=7, n_estimators=200, subsample=0.75; total time= 3.2min\n",
      "[CV] END colsample_bytree=1.0, learning_rate=0.1, max_depth=7, n_estimators=200, subsample=1.0; total time= 3.7min\n",
      "[CV] END colsample_bytree=1.0, learning_rate=0.1, max_depth=7, n_estimators=200, subsample=1.0; total time= 3.9min\n",
      "[CV] END colsample_bytree=1.0, learning_rate=0.2, max_depth=7, n_estimators=200, subsample=0.5; total time= 2.6min\n",
      "[CV] END colsample_bytree=1.0, learning_rate=0.2, max_depth=7, n_estimators=200, subsample=0.5; total time= 2.5min\n",
      "[CV] END colsample_bytree=1.0, learning_rate=0.2, max_depth=7, n_estimators=200, subsample=0.75; total time= 3.1min\n",
      "[CV] END colsample_bytree=1.0, learning_rate=0.2, max_depth=7, n_estimators=200, subsample=0.75; total time= 3.1min\n",
      "[CV] END colsample_bytree=1.0, learning_rate=0.2, max_depth=7, n_estimators=200, subsample=1.0; total time= 3.6min\n",
      "[CV] END colsample_bytree=1.0, learning_rate=0.2, max_depth=7, n_estimators=200, subsample=1.0; total time= 3.6min\n",
      "[CV] END colsample_bytree=1.0, learning_rate=0.3, max_depth=7, n_estimators=200, subsample=0.5; total time= 2.5min\n",
      "[CV] END colsample_bytree=1.0, learning_rate=0.3, max_depth=7, n_estimators=200, subsample=0.5; total time= 2.5min\n",
      "[CV] END colsample_bytree=1.0, learning_rate=0.3, max_depth=7, n_estimators=200, subsample=0.75; total time= 3.1min\n",
      "[CV] END colsample_bytree=1.0, learning_rate=0.3, max_depth=7, n_estimators=200, subsample=0.75; total time= 3.2min\n",
      "[CV] END colsample_bytree=1.0, learning_rate=0.3, max_depth=7, n_estimators=200, subsample=1.0; total time= 3.6min\n",
      "[CV] END colsample_bytree=1.0, learning_rate=0.3, max_depth=7, n_estimators=200, subsample=1.0; total time= 3.6min\n",
      "Best hyperparameters: {'colsample_bytree': 0.75, 'learning_rate': 0.1, 'max_depth': 7, 'n_estimators': 200, 'subsample': 0.75}\n",
      "Accuracy: 83.65%\n"
     ]
    }
   ],
   "source": [
    "import numpy as np\n",
    "import pandas as pd\n",
    "import gensim.downloader as api\n",
    "import xgboost as xgb\n",
    "from sklearn.model_selection import train_test_split\n",
    "\n",
    "# load pre-trained word2vec model\n",
    "model = api.load(\"word2vec-google-news-300\")\n",
    "\n",
    "# load and preprocess data\n",
    "\n",
    "cleaned_data['tokens'] = cleaned_data['Text'].apply(lambda x: x.split())\n",
    "sentences = cleaned_data['tokens'].tolist()\n",
    "\n",
    "# convert text to numerical vectors using word embeddings\n",
    "X = np.zeros((len(sentences), model.vector_size))\n",
    "for i, sentence in enumerate(sentences):\n",
    "    vector = np.zeros(model.vector_size)\n",
    "    for word in sentence:\n",
    "        if word in model.key_to_index:\n",
    "            vector += model.get_vector(word)\n",
    "    X[i] = vector\n",
    "\n",
    "# define target variable\n",
    "Y = cleaned_data['Score'].values\n",
    "\n",
    "# split data into training and testing sets\n",
    "X_train, X_test, Y_train, Y_test = train_test_split(X, Y, test_size=0.3)\n",
    "\n",
    "# initialize XGBoost model\n",
    "xgb_model = xgb.XGBClassifier()\n",
    "\n",
    "# define parameter grid for grid search\n",
    "param_grid = {\n",
    "    'n_estimators': [200],\n",
    "    'max_depth': [7],\n",
    "    'learning_rate': [0.1, 0.01, 0.001],\n",
    "    'colsample_bytree': [0.5, 0.75, 1.0],\n",
    "    'subsample': [0.5, 0.75, 1.0],\n",
    "    'learning_rate': [0.1,0.2,0.3],\n",
    "}\n",
    "\n",
    "# perform grid search\n",
    "grid_search = GridSearchCV(xgb_model, param_grid, cv=2, verbose = 2)\n",
    "grid_search.fit(X_train, Y_train)\n",
    "\n",
    "# get best hyperparameters\n",
    "best_params = grid_search.best_params_\n",
    "print(\"Best hyperparameters:\", best_params)\n",
    "\n",
    "# train XGBoost model on training data with best hyperparameters\n",
    "xgb_model = xgb.XGBClassifier(**best_params)\n",
    "xgb_model.fit(X_train, Y_train)\n",
    "\n",
    "# evaluate the model on testing data\n",
    "accuracy = xgb_model.score(X_test, Y_test)\n",
    "print(\"Accuracy: %.2f%%\" % (accuracy * 100.0))\n",
    "\n",
    "#83% accuracy naively \n",
    "#83.65% with tuned hyperparameters... \n",
    "#Best hyperparameters: {'colsample_bytree': 0.75, 'learning_rate': 0.1, 'max_depth': 7, 'n_estimators': 200, 'subsample': 0.75}\n"
   ]
  },
  {
   "cell_type": "code",
   "execution_count": 149,
   "metadata": {},
   "outputs": [
    {
     "ename": "ValueError",
     "evalue": "setting an array element with a sequence.",
     "output_type": "error",
     "traceback": [
      "\u001b[1;31m---------------------------------------------------------------------------\u001b[0m",
      "\u001b[1;31mTypeError\u001b[0m                                 Traceback (most recent call last)",
      "\u001b[1;31mTypeError\u001b[0m: only size-1 arrays can be converted to Python scalars",
      "\nThe above exception was the direct cause of the following exception:\n",
      "\u001b[1;31mValueError\u001b[0m                                Traceback (most recent call last)",
      "\u001b[1;32m~\\AppData\\Local\\Temp\\ipykernel_6136\\1325288144.py\u001b[0m in \u001b[0;36m<module>\u001b[1;34m\u001b[0m\n\u001b[0;32m     38\u001b[0m \u001b[1;33m\u001b[0m\u001b[0m\n\u001b[0;32m     39\u001b[0m \u001b[1;31m# Train XGBoost classifier on training data\u001b[0m\u001b[1;33m\u001b[0m\u001b[1;33m\u001b[0m\u001b[0m\n\u001b[1;32m---> 40\u001b[1;33m \u001b[0mxgb_clf\u001b[0m\u001b[1;33m.\u001b[0m\u001b[0mfit\u001b[0m\u001b[1;33m(\u001b[0m\u001b[0mX_train\u001b[0m\u001b[1;33m,\u001b[0m \u001b[0my_train\u001b[0m\u001b[1;33m)\u001b[0m\u001b[1;33m\u001b[0m\u001b[1;33m\u001b[0m\u001b[0m\n\u001b[0m\u001b[0;32m     41\u001b[0m \u001b[1;33m\u001b[0m\u001b[0m\n\u001b[0;32m     42\u001b[0m \u001b[1;31m# Evaluate XGBoost classifier on test data\u001b[0m\u001b[1;33m\u001b[0m\u001b[1;33m\u001b[0m\u001b[0m\n",
      "\u001b[1;32mc:\\Users\\micha\\anaconda3\\lib\\site-packages\\xgboost\\core.py\u001b[0m in \u001b[0;36minner_f\u001b[1;34m(*args, **kwargs)\u001b[0m\n\u001b[0;32m    618\u001b[0m             \u001b[1;32mfor\u001b[0m \u001b[0mk\u001b[0m\u001b[1;33m,\u001b[0m \u001b[0marg\u001b[0m \u001b[1;32min\u001b[0m \u001b[0mzip\u001b[0m\u001b[1;33m(\u001b[0m\u001b[0msig\u001b[0m\u001b[1;33m.\u001b[0m\u001b[0mparameters\u001b[0m\u001b[1;33m,\u001b[0m \u001b[0margs\u001b[0m\u001b[1;33m)\u001b[0m\u001b[1;33m:\u001b[0m\u001b[1;33m\u001b[0m\u001b[1;33m\u001b[0m\u001b[0m\n\u001b[0;32m    619\u001b[0m                 \u001b[0mkwargs\u001b[0m\u001b[1;33m[\u001b[0m\u001b[0mk\u001b[0m\u001b[1;33m]\u001b[0m \u001b[1;33m=\u001b[0m \u001b[0marg\u001b[0m\u001b[1;33m\u001b[0m\u001b[1;33m\u001b[0m\u001b[0m\n\u001b[1;32m--> 620\u001b[1;33m             \u001b[1;32mreturn\u001b[0m \u001b[0mfunc\u001b[0m\u001b[1;33m(\u001b[0m\u001b[1;33m**\u001b[0m\u001b[0mkwargs\u001b[0m\u001b[1;33m)\u001b[0m\u001b[1;33m\u001b[0m\u001b[1;33m\u001b[0m\u001b[0m\n\u001b[0m\u001b[0;32m    621\u001b[0m \u001b[1;33m\u001b[0m\u001b[0m\n\u001b[0;32m    622\u001b[0m         \u001b[1;32mreturn\u001b[0m \u001b[0minner_f\u001b[0m\u001b[1;33m\u001b[0m\u001b[1;33m\u001b[0m\u001b[0m\n",
      "\u001b[1;32mc:\\Users\\micha\\anaconda3\\lib\\site-packages\\xgboost\\sklearn.py\u001b[0m in \u001b[0;36mfit\u001b[1;34m(self, X, y, sample_weight, base_margin, eval_set, eval_metric, early_stopping_rounds, verbose, xgb_model, sample_weight_eval_set, base_margin_eval_set, feature_weights, callbacks)\u001b[0m\n\u001b[0;32m   1469\u001b[0m                 \u001b[0mxgb_model\u001b[0m\u001b[1;33m,\u001b[0m \u001b[0meval_metric\u001b[0m\u001b[1;33m,\u001b[0m \u001b[0mparams\u001b[0m\u001b[1;33m,\u001b[0m \u001b[0mearly_stopping_rounds\u001b[0m\u001b[1;33m,\u001b[0m \u001b[0mcallbacks\u001b[0m\u001b[1;33m\u001b[0m\u001b[1;33m\u001b[0m\u001b[0m\n\u001b[0;32m   1470\u001b[0m             )\n\u001b[1;32m-> 1471\u001b[1;33m             train_dmatrix, evals = _wrap_evaluation_matrices(\n\u001b[0m\u001b[0;32m   1472\u001b[0m                 \u001b[0mmissing\u001b[0m\u001b[1;33m=\u001b[0m\u001b[0mself\u001b[0m\u001b[1;33m.\u001b[0m\u001b[0mmissing\u001b[0m\u001b[1;33m,\u001b[0m\u001b[1;33m\u001b[0m\u001b[1;33m\u001b[0m\u001b[0m\n\u001b[0;32m   1473\u001b[0m                 \u001b[0mX\u001b[0m\u001b[1;33m=\u001b[0m\u001b[0mX\u001b[0m\u001b[1;33m,\u001b[0m\u001b[1;33m\u001b[0m\u001b[1;33m\u001b[0m\u001b[0m\n",
      "\u001b[1;32mc:\\Users\\micha\\anaconda3\\lib\\site-packages\\xgboost\\sklearn.py\u001b[0m in \u001b[0;36m_wrap_evaluation_matrices\u001b[1;34m(missing, X, y, group, qid, sample_weight, base_margin, feature_weights, eval_set, sample_weight_eval_set, base_margin_eval_set, eval_group, eval_qid, create_dmatrix, enable_categorical, feature_types)\u001b[0m\n\u001b[0;32m    446\u001b[0m     \"\"\"Convert array_like evaluation matrices into DMatrix.  Perform validation on the\n\u001b[0;32m    447\u001b[0m     way.\"\"\"\n\u001b[1;32m--> 448\u001b[1;33m     train_dmatrix = create_dmatrix(\n\u001b[0m\u001b[0;32m    449\u001b[0m         \u001b[0mdata\u001b[0m\u001b[1;33m=\u001b[0m\u001b[0mX\u001b[0m\u001b[1;33m,\u001b[0m\u001b[1;33m\u001b[0m\u001b[1;33m\u001b[0m\u001b[0m\n\u001b[0;32m    450\u001b[0m         \u001b[0mlabel\u001b[0m\u001b[1;33m=\u001b[0m\u001b[0my\u001b[0m\u001b[1;33m,\u001b[0m\u001b[1;33m\u001b[0m\u001b[1;33m\u001b[0m\u001b[0m\n",
      "\u001b[1;32mc:\\Users\\micha\\anaconda3\\lib\\site-packages\\xgboost\\sklearn.py\u001b[0m in \u001b[0;36m_create_dmatrix\u001b[1;34m(self, ref, **kwargs)\u001b[0m\n\u001b[0;32m    906\u001b[0m             \u001b[1;32mexcept\u001b[0m \u001b[0mTypeError\u001b[0m\u001b[1;33m:\u001b[0m  \u001b[1;31m# `QuantileDMatrix` supports lesser types than DMatrix\u001b[0m\u001b[1;33m\u001b[0m\u001b[1;33m\u001b[0m\u001b[0m\n\u001b[0;32m    907\u001b[0m                 \u001b[1;32mpass\u001b[0m\u001b[1;33m\u001b[0m\u001b[1;33m\u001b[0m\u001b[0m\n\u001b[1;32m--> 908\u001b[1;33m         \u001b[1;32mreturn\u001b[0m \u001b[0mDMatrix\u001b[0m\u001b[1;33m(\u001b[0m\u001b[1;33m**\u001b[0m\u001b[0mkwargs\u001b[0m\u001b[1;33m,\u001b[0m \u001b[0mnthread\u001b[0m\u001b[1;33m=\u001b[0m\u001b[0mself\u001b[0m\u001b[1;33m.\u001b[0m\u001b[0mn_jobs\u001b[0m\u001b[1;33m)\u001b[0m\u001b[1;33m\u001b[0m\u001b[1;33m\u001b[0m\u001b[0m\n\u001b[0m\u001b[0;32m    909\u001b[0m \u001b[1;33m\u001b[0m\u001b[0m\n\u001b[0;32m    910\u001b[0m     \u001b[1;32mdef\u001b[0m \u001b[0m_set_evaluation_result\u001b[0m\u001b[1;33m(\u001b[0m\u001b[0mself\u001b[0m\u001b[1;33m,\u001b[0m \u001b[0mevals_result\u001b[0m\u001b[1;33m:\u001b[0m \u001b[0mTrainingCallback\u001b[0m\u001b[1;33m.\u001b[0m\u001b[0mEvalsLog\u001b[0m\u001b[1;33m)\u001b[0m \u001b[1;33m->\u001b[0m \u001b[1;32mNone\u001b[0m\u001b[1;33m:\u001b[0m\u001b[1;33m\u001b[0m\u001b[1;33m\u001b[0m\u001b[0m\n",
      "\u001b[1;32mc:\\Users\\micha\\anaconda3\\lib\\site-packages\\xgboost\\core.py\u001b[0m in \u001b[0;36minner_f\u001b[1;34m(*args, **kwargs)\u001b[0m\n\u001b[0;32m    618\u001b[0m             \u001b[1;32mfor\u001b[0m \u001b[0mk\u001b[0m\u001b[1;33m,\u001b[0m \u001b[0marg\u001b[0m \u001b[1;32min\u001b[0m \u001b[0mzip\u001b[0m\u001b[1;33m(\u001b[0m\u001b[0msig\u001b[0m\u001b[1;33m.\u001b[0m\u001b[0mparameters\u001b[0m\u001b[1;33m,\u001b[0m \u001b[0margs\u001b[0m\u001b[1;33m)\u001b[0m\u001b[1;33m:\u001b[0m\u001b[1;33m\u001b[0m\u001b[1;33m\u001b[0m\u001b[0m\n\u001b[0;32m    619\u001b[0m                 \u001b[0mkwargs\u001b[0m\u001b[1;33m[\u001b[0m\u001b[0mk\u001b[0m\u001b[1;33m]\u001b[0m \u001b[1;33m=\u001b[0m \u001b[0marg\u001b[0m\u001b[1;33m\u001b[0m\u001b[1;33m\u001b[0m\u001b[0m\n\u001b[1;32m--> 620\u001b[1;33m             \u001b[1;32mreturn\u001b[0m \u001b[0mfunc\u001b[0m\u001b[1;33m(\u001b[0m\u001b[1;33m**\u001b[0m\u001b[0mkwargs\u001b[0m\u001b[1;33m)\u001b[0m\u001b[1;33m\u001b[0m\u001b[1;33m\u001b[0m\u001b[0m\n\u001b[0m\u001b[0;32m    621\u001b[0m \u001b[1;33m\u001b[0m\u001b[0m\n\u001b[0;32m    622\u001b[0m         \u001b[1;32mreturn\u001b[0m \u001b[0minner_f\u001b[0m\u001b[1;33m\u001b[0m\u001b[1;33m\u001b[0m\u001b[0m\n",
      "\u001b[1;32mc:\\Users\\micha\\anaconda3\\lib\\site-packages\\xgboost\\core.py\u001b[0m in \u001b[0;36m__init__\u001b[1;34m(self, data, label, weight, base_margin, missing, silent, feature_names, feature_types, nthread, group, qid, label_lower_bound, label_upper_bound, feature_weights, enable_categorical)\u001b[0m\n\u001b[0;32m    741\u001b[0m             \u001b[1;32mreturn\u001b[0m\u001b[1;33m\u001b[0m\u001b[1;33m\u001b[0m\u001b[0m\n\u001b[0;32m    742\u001b[0m \u001b[1;33m\u001b[0m\u001b[0m\n\u001b[1;32m--> 743\u001b[1;33m         handle, feature_names, feature_types = dispatch_data_backend(\n\u001b[0m\u001b[0;32m    744\u001b[0m             \u001b[0mdata\u001b[0m\u001b[1;33m,\u001b[0m\u001b[1;33m\u001b[0m\u001b[1;33m\u001b[0m\u001b[0m\n\u001b[0;32m    745\u001b[0m             \u001b[0mmissing\u001b[0m\u001b[1;33m=\u001b[0m\u001b[0mself\u001b[0m\u001b[1;33m.\u001b[0m\u001b[0mmissing\u001b[0m\u001b[1;33m,\u001b[0m\u001b[1;33m\u001b[0m\u001b[1;33m\u001b[0m\u001b[0m\n",
      "\u001b[1;32mc:\\Users\\micha\\anaconda3\\lib\\site-packages\\xgboost\\data.py\u001b[0m in \u001b[0;36mdispatch_data_backend\u001b[1;34m(data, missing, threads, feature_names, feature_types, enable_categorical)\u001b[0m\n\u001b[0;32m    947\u001b[0m         )\n\u001b[0;32m    948\u001b[0m     \u001b[1;32mif\u001b[0m \u001b[0m_is_numpy_array\u001b[0m\u001b[1;33m(\u001b[0m\u001b[0mdata\u001b[0m\u001b[1;33m)\u001b[0m\u001b[1;33m:\u001b[0m\u001b[1;33m\u001b[0m\u001b[1;33m\u001b[0m\u001b[0m\n\u001b[1;32m--> 949\u001b[1;33m         \u001b[1;32mreturn\u001b[0m \u001b[0m_from_numpy_array\u001b[0m\u001b[1;33m(\u001b[0m\u001b[0mdata\u001b[0m\u001b[1;33m,\u001b[0m \u001b[0mmissing\u001b[0m\u001b[1;33m,\u001b[0m \u001b[0mthreads\u001b[0m\u001b[1;33m,\u001b[0m \u001b[0mfeature_names\u001b[0m\u001b[1;33m,\u001b[0m \u001b[0mfeature_types\u001b[0m\u001b[1;33m)\u001b[0m\u001b[1;33m\u001b[0m\u001b[1;33m\u001b[0m\u001b[0m\n\u001b[0m\u001b[0;32m    950\u001b[0m     \u001b[1;32mif\u001b[0m \u001b[0m_is_uri\u001b[0m\u001b[1;33m(\u001b[0m\u001b[0mdata\u001b[0m\u001b[1;33m)\u001b[0m\u001b[1;33m:\u001b[0m\u001b[1;33m\u001b[0m\u001b[1;33m\u001b[0m\u001b[0m\n\u001b[0;32m    951\u001b[0m         \u001b[1;32mreturn\u001b[0m \u001b[0m_from_uri\u001b[0m\u001b[1;33m(\u001b[0m\u001b[0mdata\u001b[0m\u001b[1;33m,\u001b[0m \u001b[0mmissing\u001b[0m\u001b[1;33m,\u001b[0m \u001b[0mfeature_names\u001b[0m\u001b[1;33m,\u001b[0m \u001b[0mfeature_types\u001b[0m\u001b[1;33m)\u001b[0m\u001b[1;33m\u001b[0m\u001b[1;33m\u001b[0m\u001b[0m\n",
      "\u001b[1;32mc:\\Users\\micha\\anaconda3\\lib\\site-packages\\xgboost\\data.py\u001b[0m in \u001b[0;36m_from_numpy_array\u001b[1;34m(data, missing, nthread, feature_names, feature_types)\u001b[0m\n\u001b[0;32m    191\u001b[0m             \u001b[1;34m\"Expecting 2 dimensional numpy.ndarray, got: \"\u001b[0m\u001b[1;33m,\u001b[0m \u001b[0mdata\u001b[0m\u001b[1;33m.\u001b[0m\u001b[0mshape\u001b[0m\u001b[1;33m\u001b[0m\u001b[1;33m\u001b[0m\u001b[0m\n\u001b[0;32m    192\u001b[0m         )\n\u001b[1;32m--> 193\u001b[1;33m     \u001b[0mdata\u001b[0m\u001b[1;33m,\u001b[0m \u001b[0m_\u001b[0m \u001b[1;33m=\u001b[0m \u001b[0m_ensure_np_dtype\u001b[0m\u001b[1;33m(\u001b[0m\u001b[0mdata\u001b[0m\u001b[1;33m,\u001b[0m \u001b[0mdata\u001b[0m\u001b[1;33m.\u001b[0m\u001b[0mdtype\u001b[0m\u001b[1;33m)\u001b[0m\u001b[1;33m\u001b[0m\u001b[1;33m\u001b[0m\u001b[0m\n\u001b[0m\u001b[0;32m    194\u001b[0m     \u001b[0mhandle\u001b[0m \u001b[1;33m=\u001b[0m \u001b[0mctypes\u001b[0m\u001b[1;33m.\u001b[0m\u001b[0mc_void_p\u001b[0m\u001b[1;33m(\u001b[0m\u001b[1;33m)\u001b[0m\u001b[1;33m\u001b[0m\u001b[1;33m\u001b[0m\u001b[0m\n\u001b[0;32m    195\u001b[0m     args = {\n",
      "\u001b[1;32mc:\\Users\\micha\\anaconda3\\lib\\site-packages\\xgboost\\data.py\u001b[0m in \u001b[0;36m_ensure_np_dtype\u001b[1;34m(data, dtype)\u001b[0m\n\u001b[0;32m    158\u001b[0m ) -> Tuple[np.ndarray, Optional[NumpyDType]]:\n\u001b[0;32m    159\u001b[0m     \u001b[1;32mif\u001b[0m \u001b[0mdata\u001b[0m\u001b[1;33m.\u001b[0m\u001b[0mdtype\u001b[0m\u001b[1;33m.\u001b[0m\u001b[0mhasobject\u001b[0m \u001b[1;32mor\u001b[0m \u001b[0mdata\u001b[0m\u001b[1;33m.\u001b[0m\u001b[0mdtype\u001b[0m \u001b[1;32min\u001b[0m \u001b[1;33m[\u001b[0m\u001b[0mnp\u001b[0m\u001b[1;33m.\u001b[0m\u001b[0mfloat16\u001b[0m\u001b[1;33m,\u001b[0m \u001b[0mnp\u001b[0m\u001b[1;33m.\u001b[0m\u001b[0mbool_\u001b[0m\u001b[1;33m]\u001b[0m\u001b[1;33m:\u001b[0m\u001b[1;33m\u001b[0m\u001b[1;33m\u001b[0m\u001b[0m\n\u001b[1;32m--> 160\u001b[1;33m         \u001b[0mdata\u001b[0m \u001b[1;33m=\u001b[0m \u001b[0mdata\u001b[0m\u001b[1;33m.\u001b[0m\u001b[0mastype\u001b[0m\u001b[1;33m(\u001b[0m\u001b[0mnp\u001b[0m\u001b[1;33m.\u001b[0m\u001b[0mfloat32\u001b[0m\u001b[1;33m,\u001b[0m \u001b[0mcopy\u001b[0m\u001b[1;33m=\u001b[0m\u001b[1;32mFalse\u001b[0m\u001b[1;33m)\u001b[0m\u001b[1;33m\u001b[0m\u001b[1;33m\u001b[0m\u001b[0m\n\u001b[0m\u001b[0;32m    161\u001b[0m         \u001b[0mdtype\u001b[0m \u001b[1;33m=\u001b[0m \u001b[0mnp\u001b[0m\u001b[1;33m.\u001b[0m\u001b[0mfloat32\u001b[0m\u001b[1;33m\u001b[0m\u001b[1;33m\u001b[0m\u001b[0m\n\u001b[0;32m    162\u001b[0m     \u001b[1;32mreturn\u001b[0m \u001b[0mdata\u001b[0m\u001b[1;33m,\u001b[0m \u001b[0mdtype\u001b[0m\u001b[1;33m\u001b[0m\u001b[1;33m\u001b[0m\u001b[0m\n",
      "\u001b[1;31mValueError\u001b[0m: setting an array element with a sequence."
     ]
    }
   ],
   "source": [
    "from sklearn.model_selection import train_test_split\n",
    "import xgboost as xgb\n",
    "\n",
    "X_w2v = np.array(cleaned_data['encoded_text'])\n",
    "X_w2v = X_w2v.reshape(-1, 1)\n",
    "\n",
    "\n",
    "# Split dataset into training and testing sets\n",
    "X_train, X_test, y_train, y_test = train_test_split(X_w2v, y, train_size = .7, test_size=0.01, random_state=42)\n",
    "\n",
    "# Calculate frequency of each class in the training set\n",
    "class_freq = np.unique(y_train, return_counts=True)\n",
    "\n",
    "# Split testing set into two parts, one for each class\n",
    "pos_idx = np.where(y_test == 1)[0]\n",
    "neg_idx = np.where(y_test == 0)[0]\n",
    "\n",
    "pos_test_set = X_test[pos_idx]\n",
    "neg_test_set = X_test[neg_idx]\n",
    "\n",
    "# Combine the two testing sets to create a balanced testing set\n",
    "min_len = min(pos_test_set.shape[0], neg_test_set.shape[0])\n",
    "\n",
    "balanced_X_test = np.concatenate((pos_test_set[:min_len], neg_test_set[:min_len]))\n",
    "balanced_y_test = np.concatenate((np.ones(min_len), np.zeros(min_len)))\n",
    "\n",
    "# Shuffle the examples in the balanced testing set\n",
    "shuffle_idx = np.random.permutation(len(balanced_y_test))\n",
    "balanced_X_test = balanced_X_test[shuffle_idx]\n",
    "balanced_y_test = balanced_y_test[shuffle_idx]\n",
    "\n",
    "# Define XGBoost classifier\n",
    "xgb_clf = xgb.XGBClassifier()\n",
    "\n",
    "# Train XGBoost classifier on training data\n",
    "xgb_clf.fit(X_train, y_train)\n",
    "\n",
    "# Evaluate XGBoost classifier on test data\n",
    "accuracy = xgb_clf.score(balanced_X_test, balanced_y_test)\n",
    "print('Accuracy: {:.2f}%'.format(accuracy * 100))\n",
    "\n"
   ]
  },
  {
   "attachments": {},
   "cell_type": "markdown",
   "metadata": {},
   "source": [
    "# N-Grams\n"
   ]
  },
  {
   "cell_type": "code",
   "execution_count": null,
   "metadata": {},
   "outputs": [],
   "source": [
    "from sklearn.feature_extraction.text import CountVectorizer\n",
    "\n",
    "# Encode documents using 2-grams\n",
    "vectorizer = CountVectorizer(ngram_range=(2, 2))\n",
    "encoded_documents = vectorizer.fit_transform(cleaned_data['Text'])\n",
    "\n",
    "\n",
    "# Define CountVectorizer with n-gram range\n",
    "vectorizer = CountVectorizer(ngram_range=(1,2))\n",
    "\n",
    "# Fit and transform text data\n",
    "X = vectorizer.fit_transform(cleaned_data['Text'])\n",
    "\n",
    "# Convert sparse matrix to array\n",
    "X = np.array(X.toarray())\n",
    "\n",
    "# Print feature names\n",
    "print(vectorizer.get_feature_names())\n"
   ]
  },
  {
   "attachments": {},
   "cell_type": "markdown",
   "metadata": {},
   "source": [
    "# Dataset Shift"
   ]
  },
  {
   "cell_type": "code",
   "execution_count": 202,
   "metadata": {},
   "outputs": [],
   "source": [
    "movie_reviews = pd.read_csv(\"C:/Users/micha/Downloads/sentiment-analysis-on-movie-reviews/train.tsv/train.tsv\", on_bad_lines='skip', sep = '\\t')\n",
    "movie_reviews = movie_reviews.drop_duplicates(subset=['SentenceId'], keep='first')\n"
   ]
  },
  {
   "cell_type": "code",
   "execution_count": 212,
   "metadata": {},
   "outputs": [
    {
     "name": "stdout",
     "output_type": "stream",
     "text": [
      "0 Time taken: 0.0\n"
     ]
    },
    {
     "data": {
      "text/plain": [
       "((8529,), (8529,))"
      ]
     },
     "execution_count": 212,
     "metadata": {},
     "output_type": "execute_result"
    },
    {
     "data": {
      "image/png": "[encoded data removed]",
      "text/plain": [
       "<Figure size 640x480 with 1 Axes>"
      ]
     },
     "metadata": {},
     "output_type": "display_data"
    }
   ],
   "source": [
    "#Parallelization \n",
    "X_movie = clean_data(movie_reviews['Phrase'])\n",
    "y_movie = movie_reviews['Sentiment'] + 1\n",
    "\n",
    "y_movie[y_movie<4] = 0 # negative class\n",
    "y_movie[y_movie>=4] = 1 # positive class\n",
    "\n",
    "y_movie.value_counts().plot(kind='bar')\n",
    "\n",
    "X_movie = np.array(X_movie)\n",
    "X_movie.shape, y_movie.shape\n",
    "\n"
   ]
  },
  {
   "cell_type": "code",
   "execution_count": 213,
   "metadata": {},
   "outputs": [
    {
     "name": "stdout",
     "output_type": "stream",
     "text": [
      "Accuracy: 0.46511627906976744\n"
     ]
    }
   ],
   "source": [
    "X_movie = tf_idf.transform(X_movie)\n",
    "\n",
    "# Split dataset into training and testing sets\n",
    "X_train, X_test, y_train, y_test = train_test_split(X_movie, y_movie, train_size = .7, test_size=0.01, random_state=42)\n",
    "\n",
    "# Calculate frequency of each class in the training set\n",
    "class_freq = np.unique(y_train, return_counts=True)\n",
    "\n",
    "# Split testing set into two parts, one for each class\n",
    "pos_idx = np.where(y_test == 1)[0]\n",
    "neg_idx = np.where(y_test == 0)[0]\n",
    "\n",
    "pos_test_set = X_test[pos_idx]\n",
    "neg_test_set = X_test[neg_idx]\n",
    "\n",
    "pos_test_set = pos_test_set.toarray()\n",
    "neg_test_set = neg_test_set.toarray()\n",
    "\n",
    "# Combine the two testing sets to create a balanced testing set\n",
    "min_len = min(pos_test_set.shape[0], neg_test_set.shape[0])\n",
    "\n",
    "balanced_X_test = np.concatenate((pos_test_set[:min_len], neg_test_set[:min_len]))\n",
    "balanced_y_test = np.concatenate((np.ones(min_len), np.zeros(min_len)))\n",
    "\n",
    "# Shuffle the examples in the balanced testing set\n",
    "shuffle_idx = np.random.permutation(len(balanced_y_test))\n",
    "balanced_X_test = balanced_X_test[shuffle_idx]\n",
    "balanced_y_test = balanced_y_test[shuffle_idx]\n",
    "\n",
    "\n",
    "y_pred = best_xgb.predict(X_test)\n",
    "accuracy = accuracy_score(y_test, y_pred)\n",
    "print(\"Accuracy:\", accuracy)"
   ]
  }
 ],
 "metadata": {
  "kernelspec": {
   "display_name": "base",
   "language": "python",
   "name": "python3"
  },
  "language_info": {
   "codemirror_mode": {
    "name": "ipython",
    "version": 3
   },
   "file_extension": ".py",
   "mimetype": "text/x-python",
   "name": "python",
   "nbconvert_exporter": "python",
   "pygments_lexer": "ipython3",
   "version": "3.9.13"
  },
  "orig_nbformat": 4,
  "vscode": {
   "interpreter": {
    "hash": "c6e4e9f98eb68ad3b7c296f83d20e6de614cb42e90992a65aa266555a3137d0d"
   }
  }
 },
 "nbformat": 4,
 "nbformat_minor": 2
}
